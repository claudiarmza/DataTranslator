{
 "cells": [
  {
   "cell_type": "markdown",
   "id": "5634f6b9",
   "metadata": {},
   "source": [
    "## Actividad 1"
   ]
  },
  {
   "cell_type": "code",
   "execution_count": 2,
   "id": "032c2735",
   "metadata": {},
   "outputs": [],
   "source": [
    "#1. Escribe una función que imprima la cadena \"Hola Mundo\""
   ]
  },
  {
   "cell_type": "code",
   "execution_count": 2,
   "id": "16e53777",
   "metadata": {},
   "outputs": [],
   "source": [
    "def hola():\n",
    "    print(\"Hola Mundo\")"
   ]
  },
  {
   "cell_type": "code",
   "execution_count": 3,
   "id": "3569da08",
   "metadata": {},
   "outputs": [
    {
     "name": "stdout",
     "output_type": "stream",
     "text": [
      "Hola Mundo\n"
     ]
    }
   ],
   "source": [
    "hola()"
   ]
  },
  {
   "cell_type": "code",
   "execution_count": 7,
   "id": "5d221b77",
   "metadata": {},
   "outputs": [],
   "source": [
    "# 2. Si desea construir algo usando una Raspberry Pi, probablemente use resistencias. Para este ejercicio, necesitas saber\n",
    "#dos cosas sobre ellos..."
   ]
  },
  {
   "cell_type": "code",
   "execution_count": 8,
   "id": "6107f878",
   "metadata": {},
   "outputs": [],
   "source": [
    "dic_colores = {\"Negro\":\"0\",\"Marrón\":\"1\", \"Rojo\":\"2\", \"Naranja\":\"3\",\"Amarillo\":\"4\", \"Verde\":\"5\", \"Azul\":\"6\",\n",
    "               \"Púrpura\":\"7\",\"Gris\":\"8\", \"Blanco\":\"9\"}\n",
    "def resistencia(colores):\n",
    "    cadena=colores.split(sep=\"-\")\n",
    "    x1=str(dic_colores[cadena[0]])\n",
    "    x2=str(dic_colores[cadena[1]])\n",
    "    print(x1 + x2)\n",
    "\n",
    "#Otra opción de código es con un ciclo for\n",
    "#def resistencias(colores):\n",
    "#    diccionario= {\"Negro\":\"0\",\"Marrón\":\"1\", \"Rojo\":\"2\", \"Naranja\":\"3\",\"Amarillo\":\"4\", \"Verde\":\"5\", \"Azul\":\"6\",\"Púrpura\":\"7\",\"Gris\":\"8\", \"Blanco\":\"9\"}\n",
    "#    colores=colores.split('-')\n",
    "#    limite=0\n",
    "#    valor=''\n",
    "#    for i in range(len(colores)):\n",
    "#        valor=valor+diccionario[colores[i]]\n",
    "#        limite=limite+1\n",
    "#        if(limite==2):\n",
    "#            break; \n",
    "#    print(valor)"
   ]
  },
  {
   "cell_type": "code",
   "execution_count": 10,
   "id": "26912f72",
   "metadata": {},
   "outputs": [
    {
     "name": "stdout",
     "output_type": "stream",
     "text": [
      "92\n"
     ]
    }
   ],
   "source": [
    "resistencia(\"Blanco-Rojo-Azul-Verde\")"
   ]
  },
  {
   "cell_type": "code",
   "execution_count": 11,
   "id": "f4f5c4be",
   "metadata": {},
   "outputs": [],
   "source": [
    "# 3. Crear una función que la entrada sea un año y este de como salida si es un año bisiesto o no.\n",
    "def leap(year):\n",
    "    if (year % 4) == 0:\n",
    "        if (year % 100) ==0:\n",
    "            if (year % 400) == 0:\n",
    "                print(\"El año {0} es bisiesto\".format(year)) #es divisible entre 4, 100 y 400\n",
    "            else:\n",
    "                print(\"El año {0} no es bisiesto\".format(year)) #es divisible entre 4, 100 pero no entre 400\n",
    "        else:\n",
    "            print(\"El año {0} es bisiesto\".format(year)) #es divisible entre 4 pero no entre 100\n",
    "    else:\n",
    "        print(\"El año {0} no es bisiesto\".format(year)) #no es divisible entre 4"
   ]
  },
  {
   "cell_type": "code",
   "execution_count": 12,
   "id": "0f98376e",
   "metadata": {},
   "outputs": [
    {
     "name": "stdout",
     "output_type": "stream",
     "text": [
      "El año 2100 no es bisiesto\n"
     ]
    }
   ],
   "source": [
    "leap(2100)"
   ]
  },
  {
   "cell_type": "code",
   "execution_count": 13,
   "id": "047e7b54",
   "metadata": {},
   "outputs": [],
   "source": [
    "#Otra forma de solucionarlo es similar pero utilizando elif\n",
    "#def bisiesto(año):\n",
    "#    if año%400 == 0:\n",
    "#        return True\n",
    "#    elif año%100 == 0:\n",
    "#        return False\n",
    "#    elif año%4 == 0:\n",
    "#        return True\n",
    "#    else:\n",
    "#        return False"
   ]
  },
  {
   "cell_type": "code",
   "execution_count": 14,
   "id": "77d94210",
   "metadata": {},
   "outputs": [],
   "source": [
    "# 4. El nombre de un planeta y una edad en segundos"
   ]
  },
  {
   "cell_type": "code",
   "execution_count": 21,
   "id": "f461a9a6",
   "metadata": {},
   "outputs": [],
   "source": [
    "def edad(planeta,segundos):\n",
    "    dic_planetas={'Mercurio':0.2408467,'Venus':0.61519726,'Tierra':1.0,'Marte':1.8808158,'Jupiter':11.862615,\n",
    "                  'Saturno':29.447498,'Urano':84.016846,'Neptuno':164.79132}\n",
    "    años_tierra=segundos/31557600 #transformación de segundos a años terrestres\n",
    "    años_planeta=años_tierra*dic_planetas[planeta]\n",
    "    print('Tu edad en {0} es de {1} años'.format(planeta,float(\"{:.2f}\".format(años_planeta))))"
   ]
  },
  {
   "cell_type": "code",
   "execution_count": 22,
   "id": "f18cfadb",
   "metadata": {},
   "outputs": [
    {
     "name": "stdout",
     "output_type": "stream",
     "text": [
      "Tu edad en Mercurio es de 0.08 años\n"
     ]
    }
   ],
   "source": [
    "edad('Mercurio',10000000)"
   ]
  },
  {
   "cell_type": "code",
   "execution_count": 23,
   "id": "7bd302b4",
   "metadata": {},
   "outputs": [
    {
     "name": "stdout",
     "output_type": "stream",
     "text": [
      "Tu edad en Tierra es de 31.69 años\n",
      "Tu edad en Mercurio es de 16.29 años\n",
      "Tu edad en Venus es de 3.7 años\n",
      "Tu edad en Marte es de 126.94 años\n",
      "Tu edad en Jupiter es de 339.02 años\n",
      "Tu edad en Saturno es de 1866.27 años\n",
      "Tu edad en Urano es de 3221.75 años\n",
      "Tu edad en Neptuno es de 9509.24 años\n"
     ]
    }
   ],
   "source": [
    "#Ejemplos parte de la actividad 1\n",
    "edad('Tierra',1000000000)\n",
    "edad('Mercurio',2134835688)\n",
    "edad('Venus', 189839836)\n",
    "edad('Marte', 2129871239)\n",
    "edad('Jupiter', 901876382)\n",
    "edad('Saturno', 2000000000)\n",
    "edad('Urano', 1210123456)\n",
    "edad('Neptuno', 1821023456)"
   ]
  },
  {
   "cell_type": "code",
   "execution_count": null,
   "id": "9e816471",
   "metadata": {},
   "outputs": [],
   "source": []
  }
 ],
 "metadata": {
  "kernelspec": {
   "display_name": "Python 3",
   "language": "python",
   "name": "python3"
  },
  "language_info": {
   "codemirror_mode": {
    "name": "ipython",
    "version": 3
   },
   "file_extension": ".py",
   "mimetype": "text/x-python",
   "name": "python",
   "nbconvert_exporter": "python",
   "pygments_lexer": "ipython3",
   "version": "3.6.13"
  }
 },
 "nbformat": 4,
 "nbformat_minor": 5
}
