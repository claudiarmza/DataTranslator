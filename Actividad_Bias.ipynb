{
 "cells": [
  {
   "cell_type": "markdown",
   "id": "0abb0b43",
   "metadata": {},
   "source": [
    "# Actividad Bias"
   ]
  },
  {
   "cell_type": "code",
   "execution_count": 1,
   "id": "b626d4a2",
   "metadata": {},
   "outputs": [],
   "source": [
    "#Imports\n",
    "from sklearn.model_selection import train_test_split\n",
    "from sklearn.neighbors import KNeighborsRegressor\n",
    "from sklearn.model_selection import KFold\n",
    "from sklearn.model_selection import cross_val_score\n",
    "import numpy as np\n",
    "from sklearn.datasets import load_boston\n",
    "import pandas as pd"
   ]
  },
  {
   "cell_type": "code",
   "execution_count": 2,
   "id": "4731ec2d",
   "metadata": {},
   "outputs": [
    {
     "name": "stderr",
     "output_type": "stream",
     "text": [
      "C:\\Users\\CRAMIREZA\\Anaconda3\\lib\\site-packages\\sklearn\\utils\\deprecation.py:87: FutureWarning: Function load_boston is deprecated; `load_boston` is deprecated in 1.0 and will be removed in 1.2.\n",
      "\n",
      "    The Boston housing prices dataset has an ethical problem. You can refer to\n",
      "    the documentation of this function for further details.\n",
      "\n",
      "    The scikit-learn maintainers therefore strongly discourage the use of this\n",
      "    dataset unless the purpose of the code is to study and educate about\n",
      "    ethical issues in data science and machine learning.\n",
      "\n",
      "    In this special case, you can fetch the dataset from the original\n",
      "    source::\n",
      "\n",
      "        import pandas as pd\n",
      "        import numpy as np\n",
      "\n",
      "\n",
      "        data_url = \"http://lib.stat.cmu.edu/datasets/boston\"\n",
      "        raw_df = pd.read_csv(data_url, sep=\"\\s+\", skiprows=22, header=None)\n",
      "        data = np.hstack([raw_df.values[::2, :], raw_df.values[1::2, :2]])\n",
      "        target = raw_df.values[1::2, 2]\n",
      "\n",
      "    Alternative datasets include the California housing dataset (i.e.\n",
      "    :func:`~sklearn.datasets.fetch_california_housing`) and the Ames housing\n",
      "    dataset. You can load the datasets as follows::\n",
      "\n",
      "        from sklearn.datasets import fetch_california_housing\n",
      "        housing = fetch_california_housing()\n",
      "\n",
      "    for the California housing dataset and::\n",
      "\n",
      "        from sklearn.datasets import fetch_openml\n",
      "        housing = fetch_openml(name=\"house_prices\", as_frame=True)\n",
      "\n",
      "    for the Ames housing dataset.\n",
      "    \n",
      "  warnings.warn(msg, category=FutureWarning)\n"
     ]
    }
   ],
   "source": [
    "boston=load_boston()\n",
    "X = boston.data #características\n",
    "y = boston.target #objetivo /valor a predecir"
   ]
  },
  {
   "cell_type": "code",
   "execution_count": 3,
   "id": "08eb71ce",
   "metadata": {},
   "outputs": [],
   "source": [
    "X_train, X_test, y_train, y_test = train_test_split(X,y,test_size= .25)"
   ]
  },
  {
   "cell_type": "code",
   "execution_count": 4,
   "id": "5feb81fd",
   "metadata": {},
   "outputs": [],
   "source": [
    "import math"
   ]
  },
  {
   "cell_type": "code",
   "execution_count": 5,
   "id": "4d0a03ce",
   "metadata": {},
   "outputs": [],
   "source": [
    "def fun(true, predicted):\n",
    "    y=np.array(true)\n",
    "    yhat=np.array(predicted)\n",
    "    n= len(true)\n",
    "    suma=0\n",
    "    for i in range (0,n):\n",
    "        difference=y[i]-yhat[i]\n",
    "        squared_dif=difference**2\n",
    "        suma=suma+squared_dif\n",
    "    MSE=suma/n\n",
    "    RMSE=math.sqrt(MSE)\n",
    "    print (RMSE)"
   ]
  },
  {
   "cell_type": "code",
   "execution_count": 6,
   "id": "92e16a65",
   "metadata": {},
   "outputs": [
    {
     "data": {
      "text/plain": [
       "0.5678908345800273"
      ]
     },
     "execution_count": 6,
     "metadata": {},
     "output_type": "execute_result"
    }
   ],
   "source": [
    "from sklearn.metrics import mean_squared_error\n",
    "y_test=[4,0,6,5]\n",
    "y_pred=[3.8,0.5,7,5]\n",
    "a=mean_squared_error(y_test, y_pred)**0.5\n",
    "a"
   ]
  },
  {
   "cell_type": "code",
   "execution_count": 7,
   "id": "2d6d871d",
   "metadata": {},
   "outputs": [
    {
     "name": "stdout",
     "output_type": "stream",
     "text": [
      "0.5678908345800273\n"
     ]
    }
   ],
   "source": [
    "fun(y_test,y_pred)"
   ]
  },
  {
   "cell_type": "code",
   "execution_count": 8,
   "id": "178b0f9c",
   "metadata": {},
   "outputs": [],
   "source": [
    "#Utilizar KNeighborsRegressor para construir un modelo con los datos de entrenamiento."
   ]
  },
  {
   "cell_type": "code",
   "execution_count": 9,
   "id": "27384f44",
   "metadata": {},
   "outputs": [
    {
     "name": "stdout",
     "output_type": "stream",
     "text": [
      "4.1572491637850915\n"
     ]
    }
   ],
   "source": [
    "reg=KNeighborsRegressor(3)\n",
    "reg.fit(X_train,y_train)\n",
    "train_predicted = reg.predict(X_train) \n",
    "test_predicted = reg.predict(X_test) \n",
    "\n",
    "fun(y_train, train_predicted)"
   ]
  },
  {
   "cell_type": "markdown",
   "id": "590ba1a1",
   "metadata": {},
   "source": [
    "Las ventajas de evaluar el RMSE en un conjunto de pruebas separado se relacionan con la elaboración de un buen modelo para predecir Y tomando las features de X en un ambiente no reconocido."
   ]
  },
  {
   "cell_type": "code",
   "execution_count": 10,
   "id": "9e9ac1fe",
   "metadata": {},
   "outputs": [],
   "source": [
    "#Crear función cross_val(x_train, y_train, k) utilizando Validación Cruzada"
   ]
  },
  {
   "cell_type": "code",
   "execution_count": 11,
   "id": "8af97f65",
   "metadata": {},
   "outputs": [],
   "source": [
    "from numpy import sqrt\n",
    "from numpy import absolute\n",
    "from numpy import mean"
   ]
  },
  {
   "cell_type": "code",
   "execution_count": 12,
   "id": "ca98e64a",
   "metadata": {},
   "outputs": [],
   "source": [
    "def cross_val(X_train, y_train, k):\n",
    "     kf = KFold(n_splits=k, random_state=1, shuffle=True) \n",
    "     reg = KNeighborsRegressor(3)\n",
    "     reg.fit(X_train, y_train)\n",
    "     scores = cross_val_score(reg, X=X_train, y=y_train, cv=kf, n_jobs=1)\n",
    "     print('RMSE', sqrt(mean(absolute(scores))))"
   ]
  },
  {
   "cell_type": "code",
   "execution_count": 13,
   "id": "5ce170d9",
   "metadata": {},
   "outputs": [
    {
     "name": "stdout",
     "output_type": "stream",
     "text": [
      "RMSE 0.7129360111386647\n"
     ]
    }
   ],
   "source": [
    "cross_val(X_train=X_train, y_train=y_train, k=5)"
   ]
  },
  {
   "cell_type": "code",
   "execution_count": 14,
   "id": "f850351d",
   "metadata": {},
   "outputs": [
    {
     "name": "stdout",
     "output_type": "stream",
     "text": [
      "4.1572491637850915\n"
     ]
    }
   ],
   "source": [
    "reg=KNeighborsRegressor(3)\n",
    "reg.fit(X_train,y_train)\n",
    "train_predicted = reg.predict(X_train) \n",
    "test_predicted = reg.predict(X_test)\n",
    "fun(y_train, train_predicted)"
   ]
  },
  {
   "cell_type": "code",
   "execution_count": 15,
   "id": "91f53dca",
   "metadata": {},
   "outputs": [],
   "source": [
    "from sklearn.metrics import mean_squared_error, r2_score"
   ]
  },
  {
   "cell_type": "code",
   "execution_count": null,
   "id": "67494ea5",
   "metadata": {},
   "outputs": [],
   "source": [
    "rmse_results_train = []\n",
    "rmse_results_test = []\n",
    "\n",
    "for num in range(1,101):\n",
    "    reg = KNeighborsRegressor(num)\n",
    "    reg.fit(X_train, y_train)\n",
    "    train_predicted = reg.predict(X_train)\n",
    "    test_predicted = reg.predict(X_test)\n",
    "    rmse = mean_squared_error(y_train, train_predicted)**0.5\n",
    "    rmse_results_train.append(rmse)\n",
    "    rmse = mean_squared_error(y_test, test_predicted)**0.5\n",
    "    rmse_results_test.append(rmse)\n",
    "\n",
    "import matplotlib.pyplot as plt\n",
    "plt.plot(rmse_results_train, rmse_results_test)\n",
    "plt.legend([\"Train\", \"Test\"])\n",
    "plt.xlabel('Neighbors (K)')\n",
    "plt.ylabel('R-Squared')\n",
    "plt.show()"
   ]
  },
  {
   "cell_type": "code",
   "execution_count": null,
   "id": "f482bc68",
   "metadata": {},
   "outputs": [],
   "source": []
  }
 ],
 "metadata": {
  "kernelspec": {
   "display_name": "Python 3 (ipykernel)",
   "language": "python",
   "name": "python3"
  },
  "language_info": {
   "codemirror_mode": {
    "name": "ipython",
    "version": 3
   },
   "file_extension": ".py",
   "mimetype": "text/x-python",
   "name": "python",
   "nbconvert_exporter": "python",
   "pygments_lexer": "ipython3",
   "version": "3.9.12"
  }
 },
 "nbformat": 4,
 "nbformat_minor": 5
}
