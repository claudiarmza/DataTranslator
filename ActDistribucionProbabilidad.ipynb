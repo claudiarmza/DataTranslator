{
 "cells": [
  {
   "cell_type": "markdown",
   "id": "360336de",
   "metadata": {},
   "source": [
    "# Actividad Distribuciones de probabilidad"
   ]
  },
  {
   "cell_type": "code",
   "execution_count": 1,
   "id": "0c3fd60c",
   "metadata": {},
   "outputs": [],
   "source": [
    "import numpy as np\n",
    "import pandas as pd\n",
    "import scipy as sp\n",
    "import scipy.stats as stats\n",
    "import matplotlib.pyplot as plt"
   ]
  },
  {
   "cell_type": "markdown",
   "id": "80b3246d",
   "metadata": {},
   "source": [
    "#### 1. Considerar un dado de 20 caras para caluclar las siguientes probabilidades:"
   ]
  },
  {
   "cell_type": "code",
   "execution_count": 2,
   "id": "359a703d",
   "metadata": {},
   "outputs": [
    {
     "data": {
      "text/plain": [
       "<scipy.stats._distn_infrastructure.rv_frozen at 0x244794910d0>"
      ]
     },
     "execution_count": 2,
     "metadata": {},
     "output_type": "execute_result"
    }
   ],
   "source": [
    "# P(obtener un número entre 6 y 9)\n",
    "dado=stats.randint(low=1, high=21) #aleatorios enteros\n",
    "dado"
   ]
  },
  {
   "cell_type": "code",
   "execution_count": 86,
   "id": "409d2e05",
   "metadata": {},
   "outputs": [],
   "source": [
    "#TIPS\n",
    "# CDF: Mayor o igual (inverso)/ Menor o igual\n",
    "# PMF: Igual"
   ]
  },
  {
   "cell_type": "code",
   "execution_count": 3,
   "id": "d8242d86",
   "metadata": {},
   "outputs": [
    {
     "data": {
      "text/plain": [
       "0.05"
      ]
     },
     "execution_count": 3,
     "metadata": {},
     "output_type": "execute_result"
    }
   ],
   "source": [
    "dado.pmf(6)"
   ]
  },
  {
   "cell_type": "code",
   "execution_count": 4,
   "id": "b2c056dd",
   "metadata": {},
   "outputs": [
    {
     "data": {
      "text/plain": [
       "0.05"
      ]
     },
     "execution_count": 4,
     "metadata": {},
     "output_type": "execute_result"
    }
   ],
   "source": [
    "dado.pmf(7)"
   ]
  },
  {
   "cell_type": "code",
   "execution_count": 5,
   "id": "a5a4f959",
   "metadata": {},
   "outputs": [
    {
     "data": {
      "text/plain": [
       "0.05"
      ]
     },
     "execution_count": 5,
     "metadata": {},
     "output_type": "execute_result"
    }
   ],
   "source": [
    "dado.pmf(8)"
   ]
  },
  {
   "cell_type": "code",
   "execution_count": 6,
   "id": "4c5111d6",
   "metadata": {},
   "outputs": [
    {
     "data": {
      "text/plain": [
       "0.05"
      ]
     },
     "execution_count": 6,
     "metadata": {},
     "output_type": "execute_result"
    }
   ],
   "source": [
    "dado.pmf(9)"
   ]
  },
  {
   "cell_type": "code",
   "execution_count": 7,
   "id": "99d10946",
   "metadata": {},
   "outputs": [
    {
     "data": {
      "text/plain": [
       "0.2"
      ]
     },
     "execution_count": 7,
     "metadata": {},
     "output_type": "execute_result"
    }
   ],
   "source": [
    "dado.pmf([6,7,8,9]).sum()"
   ]
  },
  {
   "cell_type": "code",
   "execution_count": 8,
   "id": "e555f845",
   "metadata": {},
   "outputs": [
    {
     "data": {
      "text/plain": [
       "0.44999999999999996"
      ]
     },
     "execution_count": 8,
     "metadata": {},
     "output_type": "execute_result"
    }
   ],
   "source": [
    "# P(obtener al menos 12)\n",
    "1-(dado.cdf(11))"
   ]
  },
  {
   "cell_type": "code",
   "execution_count": 9,
   "id": "954a8a2d",
   "metadata": {},
   "outputs": [
    {
     "data": {
      "text/plain": [
       "0.15"
      ]
     },
     "execution_count": 9,
     "metadata": {},
     "output_type": "execute_result"
    }
   ],
   "source": [
    "# P(obtener 3 o menos)\n",
    "dado.cdf(3)"
   ]
  },
  {
   "cell_type": "code",
   "execution_count": 10,
   "id": "b9297c63",
   "metadata": {},
   "outputs": [
    {
     "name": "stdout",
     "output_type": "stream",
     "text": [
      "lanzamiento # 0 : 16\n",
      "lanzamiento # 1 : 11\n",
      "lanzamiento # 2 : 4\n",
      "lanzamiento # 3 : 20\n",
      "lanzamiento # 4 : 5\n",
      "lanzamiento # 5 : 7\n",
      "lanzamiento # 6 : 2\n",
      "lanzamiento # 7 : 11\n",
      "lanzamiento # 8 : 4\n",
      "lanzamiento # 9 : 13\n"
     ]
    }
   ],
   "source": [
    "# Lanzamiento de dado n veces\n",
    "for i in range(10):\n",
    "    print(\"lanzamiento #\",i,\":\",dado.rvs())"
   ]
  },
  {
   "cell_type": "code",
   "execution_count": 11,
   "id": "154d4250",
   "metadata": {},
   "outputs": [
    {
     "data": {
      "text/plain": [
       "(0.0, 1.0)"
      ]
     },
     "execution_count": 11,
     "metadata": {},
     "output_type": "execute_result"
    },
    {
     "data": {
      "image/png": "[encoded data removed]",
      "text/plain": [
       "<Figure size 432x288 with 1 Axes>"
      ]
     },
     "metadata": {
      "needs_background": "light"
     },
     "output_type": "display_data"
    }
   ],
   "source": [
    "# Graficar función de densidad de probabilidad (PMF)\n",
    "plt.bar(range(0,21),dado.pmf(range(0,21)));\n",
    "plt.ylim([0,1])"
   ]
  },
  {
   "cell_type": "markdown",
   "id": "1c0c7364",
   "metadata": {},
   "source": [
    "#### 2. El apagador de una casa funciona 1 de 5 veces y al accionarlo 15 veces calcular la probabilidad de:"
   ]
  },
  {
   "cell_type": "code",
   "execution_count": 12,
   "id": "59babad0",
   "metadata": {},
   "outputs": [
    {
     "data": {
      "text/plain": [
       "0.0006717597286400011"
      ]
     },
     "execution_count": 12,
     "metadata": {},
     "output_type": "execute_result"
    }
   ],
   "source": [
    "# P (Funcione 9 veces)\n",
    "binomial=stats.binom(n=15, p=0.2)\n",
    "binomial.pmf(9)"
   ]
  },
  {
   "cell_type": "code",
   "execution_count": 13,
   "id": "66bc740f",
   "metadata": {},
   "outputs": [
    {
     "data": {
      "text/plain": [
       "0.6481621045739516"
      ]
     },
     "execution_count": 13,
     "metadata": {},
     "output_type": "execute_result"
    }
   ],
   "source": [
    "# P (Funcione menos de 4 veces)\n",
    "binomial.cdf(3)"
   ]
  },
  {
   "cell_type": "code",
   "execution_count": 14,
   "id": "e2294a93",
   "metadata": {},
   "outputs": [
    {
     "data": {
      "text/plain": [
       "0.6481621045739525"
      ]
     },
     "execution_count": 14,
     "metadata": {},
     "output_type": "execute_result"
    }
   ],
   "source": [
    "binomial.pmf(1)+binomial.pmf(2)+binomial.pmf(3)+binomial.pmf(0)"
   ]
  },
  {
   "cell_type": "code",
   "execution_count": 15,
   "id": "2e9b65d4",
   "metadata": {},
   "outputs": [
    {
     "data": {
      "text/plain": [
       "0.16423372393676816"
      ]
     },
     "execution_count": 15,
     "metadata": {},
     "output_type": "execute_result"
    }
   ],
   "source": [
    "# P (Funcione 3 o más veces)\n",
    "1-(binomial.cdf(4))"
   ]
  },
  {
   "cell_type": "code",
   "execution_count": 16,
   "id": "77bdae5d",
   "metadata": {},
   "outputs": [
    {
     "data": {
      "image/png": "[encoded data removed]",
      "text/plain": [
       "<Figure size 432x288 with 1 Axes>"
      ]
     },
     "metadata": {
      "needs_background": "light"
     },
     "output_type": "display_data"
    }
   ],
   "source": [
    "# Graficar función de densidad de probabilidad (PMF)\n",
    "plt.bar(range(0,15),binomial.pmf(range(0,15)));"
   ]
  },
  {
   "cell_type": "markdown",
   "id": "6c60b92e",
   "metadata": {},
   "source": [
    "#### 3. En una línea de producción se estrellan 3 vitrales por hora, calcular las probabilidad de:"
   ]
  },
  {
   "cell_type": "code",
   "execution_count": 17,
   "id": "8407ae60",
   "metadata": {},
   "outputs": [
    {
     "data": {
      "text/plain": [
       "0.14936120510359185"
      ]
     },
     "execution_count": 17,
     "metadata": {},
     "output_type": "execute_result"
    }
   ],
   "source": [
    "# P (Estrellar un vitral por hora)\n",
    "poisson=stats.poisson.pmf(1,3)\n",
    "poisson"
   ]
  },
  {
   "cell_type": "code",
   "execution_count": 18,
   "id": "f9408f1c",
   "metadata": {},
   "outputs": [
    {
     "data": {
      "text/plain": [
       "0.34086360736141147"
      ]
     },
     "execution_count": 18,
     "metadata": {},
     "output_type": "execute_result"
    }
   ],
   "source": [
    "# P (Entre 4 y 7 por hora)\n",
    "stats.poisson.pmf(4,3)+stats.poisson.pmf(5,3)+stats.poisson.pmf(6,3)+stats.poisson.pmf(7,3)"
   ]
  },
  {
   "cell_type": "code",
   "execution_count": 19,
   "id": "6ad3658f",
   "metadata": {},
   "outputs": [
    {
     "data": {
      "text/plain": [
       "0.9160820579686966"
      ]
     },
     "execution_count": 19,
     "metadata": {},
     "output_type": "execute_result"
    }
   ],
   "source": [
    "# P (Estrellar menos de 6 por hora)\n",
    "stats.poisson.cdf(5,3)"
   ]
  },
  {
   "cell_type": "code",
   "execution_count": 20,
   "id": "bde1a3a7",
   "metadata": {},
   "outputs": [
    {
     "data": {
      "image/png": "[encoded data removed]",
      "text/plain": [
       "<Figure size 432x288 with 1 Axes>"
      ]
     },
     "metadata": {
      "needs_background": "light"
     },
     "output_type": "display_data"
    }
   ],
   "source": [
    "# Graficar función de densidad de probabilidad (PMF)\n",
    "k = np.array(range(0,20))\n",
    "lambda_ = 3\n",
    "plt.bar(k, \n",
    "            lambda_**k*np.exp(-lambda_)/sp.special.factorial(k));"
   ]
  },
  {
   "cell_type": "markdown",
   "id": "fe79d91b",
   "metadata": {},
   "source": [
    "#### 4. El documento sqft contiene el área en pies cuadrados de un conjunto de hogares, calcular"
   ]
  },
  {
   "cell_type": "code",
   "execution_count": 21,
   "id": "32ddacd4",
   "metadata": {},
   "outputs": [
    {
     "data": {
      "text/plain": [
       "sqft    0.373\n",
       "dtype: float64"
      ]
     },
     "execution_count": 21,
     "metadata": {},
     "output_type": "execute_result"
    }
   ],
   "source": [
    "# P (Una casa posea 830 +/- 25 sqft)\n",
    "df=pd.read_csv(\"sqft.csv\")\n",
    "df[(df[\"sqft\"]>805)&(df[\"sqft\"]<855)].count()/len(df)*100"
   ]
  },
  {
   "cell_type": "code",
   "execution_count": 22,
   "id": "da7ccf9f",
   "metadata": {},
   "outputs": [
    {
     "data": {
      "text/plain": [
       "sqft    0.0\n",
       "dtype: float64"
      ]
     },
     "execution_count": 22,
     "metadata": {},
     "output_type": "execute_result"
    }
   ],
   "source": [
    "# P (Una casa posea más de 3000 sqft)\n",
    "df[(df[\"sqft\"]>3000)].count()/len(df)*100"
   ]
  },
  {
   "cell_type": "code",
   "execution_count": 23,
   "id": "4fb4773b",
   "metadata": {},
   "outputs": [
    {
     "data": {
      "text/plain": [
       "sqft    0.002\n",
       "dtype: float64"
      ]
     },
     "execution_count": 23,
     "metadata": {},
     "output_type": "execute_result"
    }
   ],
   "source": [
    "# P (Una casa posea menos de 275 sqft)\n",
    "df[(df[\"sqft\"]<275)].count()/len(df)*100"
   ]
  },
  {
   "cell_type": "code",
   "execution_count": 24,
   "id": "16959b57",
   "metadata": {},
   "outputs": [
    {
     "data": {
      "image/png": "[encoded data removed]",
      "text/plain": [
       "<Figure size 432x288 with 1 Axes>"
      ]
     },
     "metadata": {
      "needs_background": "light"
     },
     "output_type": "display_data"
    }
   ],
   "source": [
    "# Graficar función de densidad de probabilidad (PMF)\n",
    "df.hist();"
   ]
  },
  {
   "cell_type": "markdown",
   "id": "e8f354b8",
   "metadata": {},
   "source": [
    "#### 5.1 Un mecanógrafo comete una media de 2 errores por página, ¿cuál es la probabilidad de que una página no tenga errores?"
   ]
  },
  {
   "cell_type": "code",
   "execution_count": 25,
   "id": "2b885be9",
   "metadata": {},
   "outputs": [
    {
     "data": {
      "text/plain": [
       "0.1353352832366127"
      ]
     },
     "execution_count": 25,
     "metadata": {},
     "output_type": "execute_result"
    }
   ],
   "source": [
    "stats.poisson.pmf(0,2)"
   ]
  },
  {
   "cell_type": "code",
   "execution_count": 26,
   "id": "8a55890a",
   "metadata": {},
   "outputs": [
    {
     "data": {
      "text/plain": [
       "0.1353352832366127"
      ]
     },
     "execution_count": 26,
     "metadata": {},
     "output_type": "execute_result"
    }
   ],
   "source": [
    "#Hecho como en clase:\n",
    "#Mecanógrafo\n",
    "meca=stats.poisson(2)\n",
    "meca.pmf(0)"
   ]
  },
  {
   "cell_type": "code",
   "execution_count": 27,
   "id": "77c3167b",
   "metadata": {},
   "outputs": [
    {
     "data": {
      "image/png": "[encoded data removed]",
      "text/plain": [
       "<Figure size 432x288 with 1 Axes>"
      ]
     },
     "metadata": {
      "needs_background": "light"
     },
     "output_type": "display_data"
    }
   ],
   "source": [
    "plt.bar(range(0,10),meca.pmf(range(0,10)))\n",
    "plt.plot(range(0,10),meca.pmf(range(0,10)),marker='*',c=\"r\");"
   ]
  },
  {
   "cell_type": "markdown",
   "id": "beeab71b",
   "metadata": {},
   "source": [
    "#### 5.2 Los componentes se embalan en cajas de 20. La probabilidad de que un componente individual sea defectuoso es de 10%"
   ]
  },
  {
   "cell_type": "code",
   "execution_count": 28,
   "id": "2e54d122",
   "metadata": {},
   "outputs": [
    {
     "data": {
      "text/plain": [
       "0.28517980706429846"
      ]
     },
     "execution_count": 28,
     "metadata": {},
     "output_type": "execute_result"
    }
   ],
   "source": [
    "# P de que una caja contenga exactamente 2 componentes defectuosos. 20 comp independientes con un estado binario\n",
    "caja=stats.binom(n=20, p=0.1)\n",
    "caja.pmf(2)"
   ]
  },
  {
   "cell_type": "code",
   "execution_count": 29,
   "id": "a7605776",
   "metadata": {},
   "outputs": [
    {
     "data": {
      "text/plain": [
       "0.6769268051894659"
      ]
     },
     "execution_count": 29,
     "metadata": {},
     "output_type": "execute_result"
    }
   ],
   "source": [
    "# P de que una caja contenga máximo 2 componentes defectuosos\n",
    "caja.cdf(2)"
   ]
  },
  {
   "cell_type": "code",
   "execution_count": 30,
   "id": "e174a3ac",
   "metadata": {},
   "outputs": [
    {
     "data": {
      "text/plain": [
       "0.6082530018748321"
      ]
     },
     "execution_count": 30,
     "metadata": {},
     "output_type": "execute_result"
    }
   ],
   "source": [
    "# Encuentra todas las posibilidades de que haya al menos 2 componentes defectuosos:\n",
    "1-caja.cdf(1)"
   ]
  },
  {
   "cell_type": "markdown",
   "id": "b5a6f4e5",
   "metadata": {},
   "source": [
    "#### 5.3 Los clientes llegan a un bar local a un ritmo de 30 por hora. ¿cuál es la probabilidad de que el portero pueda tomarse un descanso de tres minutos para ir al baño sin perder al siguiente cliente?"
   ]
  },
  {
   "cell_type": "code",
   "execution_count": 31,
   "id": "5dd31170",
   "metadata": {},
   "outputs": [
    {
     "data": {
      "text/plain": [
       "0.5"
      ]
     },
     "execution_count": 31,
     "metadata": {},
     "output_type": "execute_result"
    }
   ],
   "source": [
    "ppm=30/1*(1/60)\n",
    "ppm"
   ]
  },
  {
   "cell_type": "code",
   "execution_count": 32,
   "id": "b34fce3d",
   "metadata": {},
   "outputs": [
    {
     "data": {
      "text/plain": [
       "<scipy.stats._distn_infrastructure.rv_frozen at 0x2447a60b9d0>"
      ]
     },
     "execution_count": 32,
     "metadata": {},
     "output_type": "execute_result"
    }
   ],
   "source": [
    "bar=stats.expon(ppm)\n",
    "bar"
   ]
  },
  {
   "cell_type": "code",
   "execution_count": 33,
   "id": "fdc9bd81",
   "metadata": {},
   "outputs": [
    {
     "data": {
      "text/plain": [
       "0.0024787521766663767"
      ]
     },
     "execution_count": 33,
     "metadata": {},
     "output_type": "execute_result"
    }
   ],
   "source": [
    "1-stats.expon.cdf(3,scale=0.5) #ver esta parte del video de nuevo"
   ]
  },
  {
   "cell_type": "code",
   "execution_count": 34,
   "id": "2d2dc13e",
   "metadata": {},
   "outputs": [
    {
     "data": {
      "text/plain": [
       "<matplotlib.collections.PathCollection at 0x2447a65c790>"
      ]
     },
     "execution_count": 34,
     "metadata": {},
     "output_type": "execute_result"
    },
    {
     "data": {
      "image/png": "[encoded data removed]",
      "text/plain": [
       "<Figure size 432x288 with 1 Axes>"
      ]
     },
     "metadata": {
      "needs_background": "light"
     },
     "output_type": "display_data"
    }
   ],
   "source": [
    "#De cada generación se graduan 22, cuál es la probabilidad de que se graduen 10?\n",
    "bar2=stats.expon(0,scale=22) #qué tan a la derecha o izquierda movería la distribución es el loc\n",
    "plt.plot(range(7,11),bar2.cdf(range(7,11)))\n",
    "plt.scatter(range(7,11),bar2.cdf(range(7,11)),c=\"r\",marker=\"*\",s=200)"
   ]
  },
  {
   "cell_type": "code",
   "execution_count": 35,
   "id": "7f9d9767",
   "metadata": {},
   "outputs": [
    {
     "data": {
      "text/plain": [
       "0.3652635810597182"
      ]
     },
     "execution_count": 35,
     "metadata": {},
     "output_type": "execute_result"
    }
   ],
   "source": [
    "#Continuando con este ejemplo:\n",
    "estud=stats.expon.cdf(10,scale=22) #scale es la media P. Aprueben 10 o menos\n",
    "estud"
   ]
  },
  {
   "cell_type": "code",
   "execution_count": 36,
   "id": "64ad6f9a",
   "metadata": {
    "scrolled": true
   },
   "outputs": [],
   "source": [
    "#Volviendo al problema del ejercicio. Existen dos maneras de realizarlo:\n",
    "def generate_label(param_names, param_values):\n",
    "    '''Generate parameter labels for the legend'''\n",
    "    params = [\"{}={}\".format(name,value) for name, value in zip(param_names, param_values)\n",
    "              if name is not None]\n",
    "    return \", \".join(params)\n",
    "\n",
    "def draw_pmf(ax, dist, param_names, param_values, xpts):\n",
    "    '''draw a pmf as part of a set of pmfs'''\n",
    "    label = generate_label(param_names, param_values)\n",
    "    ax.bar(xpts, \n",
    "           [dist(*param_values).pmf(x) for x in xpts], \n",
    "           label=label, \n",
    "           align='center',\n",
    "           color='grey')\n",
    "    \n",
    "def draw_pmf_grid(dist, param_names, param_values, xpts, height=2.5):\n",
    "    '''draw several pmfs for for various parameter values for a given distribution'''\n",
    "    figsize = (12, height * len(param_values))\n",
    "    fig = plt.figure(figsize=figsize)\n",
    "    for i, pv in enumerate(param_values, start=1):\n",
    "        if i == 1:\n",
    "            ax = ax1 = fig.add_subplot(len(param_values), 1, i)\n",
    "        else:\n",
    "            ax = fig.add_subplot(len(param_values), 1, i, sharey=ax1)\n",
    "        draw_pmf(ax, dist, param_names, pv, xpts)\n",
    "        ax.set_ylabel('p')\n",
    "        ax.set_ylim(bottom=0)\n",
    "        ax.set_xlim(left=min(xpts) - 0.5, right=max(xpts) + 0.5)\n",
    "        ax.legend(frameon=True)\n",
    "        plt.xticks(np.arange(min(xpts), np.ceil(max(xpts))+1)) ## force integer ticks\n",
    "    plt.show()\n",
    "    \n",
    "def draw_pdf(ax, dist, param_names, param_values, xpts):\n",
    "    '''Dibujar una PDF'''\n",
    "    label = generate_label(param_names, param_values)\n",
    "    ax.plot(xpts, [dist(*param_values).pdf(x) for x in xpts], label=label, linewidth=2)\n",
    "    \n",
    "def draw_cdf(ax, dist, param_names, param_values, xpts):\n",
    "    label = generate_label(param_names, param_values)\n",
    "    ax.plot(xpts, [dist(*param_values).cdf(x) for x in xpts], label=label, linewidth=2)  \n",
    "\n",
    "def draw_continuous_distributions(dist, param_names, param_values, xmin, xmax, figsize=(8,6)):\n",
    "    '''Dibujar varias PDFs'''   \n",
    "    fig, axs = plt.subplots(1, 2, figsize=(12, 4))\n",
    "    xpts = np.linspace(xmin, xmax, 200)\n",
    "    for pv in param_values:\n",
    "        draw_cdf(axs[0], dist, param_names, pv, xpts)\n",
    "        draw_pdf(axs[1], dist, param_names, pv, xpts)\n",
    "    axs[0].set_ylabel('Distribución Acumulada')\n",
    "    axs[1].set_ylabel('Densidad de Probabilidad')\n",
    "    axs[0].legend()\n",
    "    axs[1].legend()"
   ]
  },
  {
   "cell_type": "code",
   "execution_count": 37,
   "id": "a1ad904b",
   "metadata": {},
   "outputs": [
    {
     "data": {
      "image/png": "[encoded data removed]",
      "text/plain": [
       "<Figure size 864x288 with 2 Axes>"
      ]
     },
     "metadata": {
      "needs_background": "light"
     },
     "output_type": "display_data"
    }
   ],
   "source": [
    "draw_continuous_distributions(stats.expon, (None,r\"$\\theta$\"),[(0,0.5),(0,22)], 0,60) #0.5 por la tasa de las personas"
   ]
  },
  {
   "cell_type": "code",
   "execution_count": 38,
   "id": "70ef3dc5",
   "metadata": {},
   "outputs": [
    {
     "data": {
      "image/png": "[encoded data removed]",
      "text/plain": [
       "<Figure size 864x288 with 2 Axes>"
      ]
     },
     "metadata": {
      "needs_background": "light"
     },
     "output_type": "display_data"
    }
   ],
   "source": [
    "#Ejercicio del Bar\n",
    "draw_continuous_distributions(stats.expon, (None,r\"$\\theta$\"),[(0,0.5)], 0,4)"
   ]
  },
  {
   "cell_type": "code",
   "execution_count": 39,
   "id": "57609b58",
   "metadata": {},
   "outputs": [
    {
     "data": {
      "image/png": "[encoded data removed]",
      "text/plain": [
       "<Figure size 864x288 with 2 Axes>"
      ]
     },
     "metadata": {
      "needs_background": "light"
     },
     "output_type": "display_data"
    }
   ],
   "source": [
    "#Ejemplo de los estudiantes:\n",
    "draw_continuous_distributions(stats.expon, (None,r\"$\\theta$\"),[(0,22)], 0,60)"
   ]
  },
  {
   "cell_type": "code",
   "execution_count": 40,
   "id": "6be77caf",
   "metadata": {},
   "outputs": [
    {
     "data": {
      "text/plain": [
       "0.9975212478233336"
      ]
     },
     "execution_count": 40,
     "metadata": {},
     "output_type": "execute_result"
    }
   ],
   "source": [
    "stats.expon.cdf(3,scale=0.5) # P de que llegue alguien en t<=3 min"
   ]
  },
  {
   "cell_type": "code",
   "execution_count": 41,
   "id": "6656f113",
   "metadata": {},
   "outputs": [
    {
     "data": {
      "text/plain": [
       "0.0024787521766663767"
      ]
     },
     "execution_count": 41,
     "metadata": {},
     "output_type": "execute_result"
    }
   ],
   "source": [
    "#RESPUESTA DEL EJERCICIO 5.3 (Bar):\n",
    "1-stats.expon.cdf(3,scale=0.5) #P de que no llegue nadie / que pueda tomarse un descanso"
   ]
  },
  {
   "cell_type": "markdown",
   "id": "57566054",
   "metadata": {},
   "source": [
    "#### 6.1 Tienes que encontrar a una persona alta, de al menos 1,80 m. El 8% de la población mide 1,80 o más, y la gente pasa de media dos veces por minuto. Si esperas en la acera, ¿cuál es la probabilidad de que tengas que esperar más de diez minutos para conseguir unas galletas?"
   ]
  },
  {
   "cell_type": "code",
   "execution_count": 42,
   "id": "4fb1d3b8",
   "metadata": {},
   "outputs": [
    {
     "data": {
      "image/png": "[encoded data removed]",
      "text/plain": [
       "<Figure size 432x288 with 1 Axes>"
      ]
     },
     "metadata": {
      "needs_background": "light"
     },
     "output_type": "display_data"
    }
   ],
   "source": [
    "# P de esperar 10 min o más:\n",
    "p_alta=stats.expon(0,scale=2) #Definición (2 veces por minuto). Es cero porque no te está diciendo que empieza en el min 10 o x\n",
    "plt.plot(range(0,15),p_alta.cdf(range(0,15)))\n",
    "plt.scatter(range(0,15),p_alta.cdf(range(0,15)),c=\"r\",marker=\"+\",s=200);"
   ]
  },
  {
   "cell_type": "code",
   "execution_count": 43,
   "id": "30df4309",
   "metadata": {},
   "outputs": [
    {
     "data": {
      "text/plain": [
       "0.006737946999085476"
      ]
     },
     "execution_count": 43,
     "metadata": {},
     "output_type": "execute_result"
    }
   ],
   "source": [
    "1-p_alta.cdf(10) #aquí asumes que cualquier persona que pase tiene la estatura, se tiene que agregar el 0.08"
   ]
  },
  {
   "cell_type": "code",
   "execution_count": 44,
   "id": "3aea1717",
   "metadata": {},
   "outputs": [
    {
     "data": {
      "text/plain": [
       "0.000539035759926838"
      ]
     },
     "execution_count": 44,
     "metadata": {},
     "output_type": "execute_result"
    }
   ],
   "source": [
    "(1-p_alta.cdf(10))*0.08"
   ]
  },
  {
   "cell_type": "markdown",
   "id": "8809dcbb",
   "metadata": {},
   "source": [
    "#### 6.2 Un pasajero apresurado llegará varios minutos tarde a un vuelo programado para las 10 am. Sin embargo es posible que llegue al vuelo, ya que el embarque siempre se permite hasta las 10:10 am, y a veces se permite hasta las 10:30 am. Suponiendo que la hora de finalización de intervalo de embarque se distribuye uniformemente sobre los límites anteriores, encuentre la probabilidad de que el pasajero llegue a su vuelo, suponiendo que llega a la puerta de embarque a las 10:25."
   ]
  },
  {
   "cell_type": "code",
   "execution_count": 45,
   "id": "f683810f",
   "metadata": {},
   "outputs": [],
   "source": [
    "#Vuelo\n",
    "vuelo=stats.randint(low=10,high=30) #normalmente se va a las 10:10, pero en ocasiones a las 10:30. el 0 equivale a las 10:00"
   ]
  },
  {
   "cell_type": "code",
   "execution_count": 46,
   "id": "ec4bad05",
   "metadata": {},
   "outputs": [
    {
     "data": {
      "text/plain": [
       "0.05"
      ]
     },
     "execution_count": 46,
     "metadata": {},
     "output_type": "execute_result"
    }
   ],
   "source": [
    "# P de que a las 10:25 todavia alcance el vuelo\n",
    "vuelo.pmf(25)"
   ]
  },
  {
   "cell_type": "code",
   "execution_count": 47,
   "id": "e568e5b7",
   "metadata": {},
   "outputs": [
    {
     "data": {
      "image/png": "[encoded data removed]",
      "text/plain": [
       "<Figure size 432x288 with 1 Axes>"
      ]
     },
     "metadata": {
      "needs_background": "light"
     },
     "output_type": "display_data"
    }
   ],
   "source": [
    "plt.plot(range(0,35),vuelo.cdf(range(0,35)));"
   ]
  },
  {
   "cell_type": "code",
   "execution_count": 49,
   "id": "3a359dc7",
   "metadata": {},
   "outputs": [
    {
     "data": {
      "image/png": "[encoded data removed]",
      "text/plain": [
       "<Figure size 432x288 with 1 Axes>"
      ]
     },
     "metadata": {
      "needs_background": "light"
     },
     "output_type": "display_data"
    }
   ],
   "source": [
    "#¿Cómo podemos estar seguros que la generación de números aleatorios es una distribución uniforme?\n",
    "#-Haciendo el gráfico del PMF\n",
    "plt.plot(range(0,35),vuelo.pmf(range(0,35)));\n",
    "plt.bar(range(0,35),vuelo.pmf(range(0,35)));\n",
    "#-Del 10 al 30 tienen exactamente la misma probabilidad. Una distribución uniforme en el CDF siempre tendrá esa elevación lineal"
   ]
  },
  {
   "cell_type": "code",
   "execution_count": 51,
   "id": "b0aa3a24",
   "metadata": {},
   "outputs": [
    {
     "data": {
      "image/png": "[encoded data removed]",
      "text/plain": [
       "<Figure size 432x288 with 1 Axes>"
      ]
     },
     "metadata": {
      "needs_background": "light"
     },
     "output_type": "display_data"
    }
   ],
   "source": [
    "plt.plot(range(0,35),vuelo.ppf(range(0,35)),marker=\"+\"); #PPF es función de punto de probabilidad. El eje y son los minutos"
   ]
  },
  {
   "cell_type": "code",
   "execution_count": 55,
   "id": "9bccb6dd",
   "metadata": {},
   "outputs": [],
   "source": [
    "#Solución con Stats.Uniform\n",
    "vuelo2=stats.uniform(loc=10,scale=20) #la media es loc porque en promedio se va a las 10:10\n",
    "#SCALE ES A PRUEBA Y ERROR, es un punto en el que puede haber outliers."
   ]
  },
  {
   "cell_type": "code",
   "execution_count": 59,
   "id": "27e75f39",
   "metadata": {},
   "outputs": [
    {
     "data": {
      "image/png": "[encoded data removed]",
      "text/plain": [
       "<Figure size 432x288 with 1 Axes>"
      ]
     },
     "metadata": {
      "needs_background": "light"
     },
     "output_type": "display_data"
    }
   ],
   "source": [
    "plt.plot(range(0,35),vuelo2.cdf(range(0,35)));\n",
    "plt.ylim([-0.1,1.1]);\n",
    "plt.xlim([-0.1,35]); #que se puede hasta 35 no es verdad en el problema (scale con 30).\n",
    "#Se cambió el scale a 20 (prueba y error) para llegar a la gráfica que corresponde."
   ]
  },
  {
   "cell_type": "code",
   "execution_count": 60,
   "id": "76f101eb",
   "metadata": {},
   "outputs": [
    {
     "data": {
      "text/plain": [
       "0.05"
      ]
     },
     "execution_count": 60,
     "metadata": {},
     "output_type": "execute_result"
    }
   ],
   "source": [
    "#Ver si coincide valor con el del método de randint\n",
    "vuelo2.pdf(25)"
   ]
  },
  {
   "cell_type": "markdown",
   "id": "644b99aa",
   "metadata": {},
   "source": [
    "#### 7.1 Tu gato empieza a pedir la cena a las 3:30 todos los días, y sospechas que maúlla a un ritmo fijo. Has observado que aproximadamente una quinta parte de las veces tu gato no maúlla hasta las 3:40, lo que te da 10 minutos inesperados de tranquilidad. ¿Cuál es la probabilidad de que tu gato te deje tranquilo durante 30 minutos?"
   ]
  },
  {
   "cell_type": "code",
   "execution_count": 61,
   "id": "bf657332",
   "metadata": {},
   "outputs": [],
   "source": [
    "gato=stats.poisson(0.2)"
   ]
  },
  {
   "cell_type": "code",
   "execution_count": 62,
   "id": "8037ae5b",
   "metadata": {},
   "outputs": [
    {
     "data": {
      "text/plain": [
       "0.0010916410041039767"
      ]
     },
     "execution_count": 62,
     "metadata": {},
     "output_type": "execute_result"
    }
   ],
   "source": [
    "gato.pmf(3) #que no maulle 3 veces seguidas (30 min)"
   ]
  },
  {
   "cell_type": "markdown",
   "id": "ccafbee3",
   "metadata": {},
   "source": [
    "#### 7.2 De alguna manera, has acabado con dos tipos de tenedores. Están los tenedores buenos, que son grandes y sirven para un bocado sano, pero también están estos pequeños y finos que no entiendes muy bien para qué sirven, probablemente deberías deshacerte de ellos. Necesitas dos tenedores para ti y tu pareja, y coge un puñado de 5. Si hay 14 tenedores en el cajón, de los cuales la mitad son del tipo bueno, ¿cuál es la probabilidad de que tengas al menos los dos tenedores buenos que necesitas?"
   ]
  },
  {
   "cell_type": "code",
   "execution_count": 64,
   "id": "c94e66b1",
   "metadata": {},
   "outputs": [],
   "source": [
    "tenedores = stats.nhypergeom(M=14, n=7, r=5) #n es el número de los que cumplen con el requisito y r es la muestra."
   ]
  },
  {
   "cell_type": "code",
   "execution_count": 65,
   "id": "03962250",
   "metadata": {},
   "outputs": [
    {
     "data": {
      "text/plain": [
       "0.0917832167832168"
      ]
     },
     "execution_count": 65,
     "metadata": {},
     "output_type": "execute_result"
    }
   ],
   "source": [
    "tenedores.pmf(2)"
   ]
  },
  {
   "cell_type": "code",
   "execution_count": 66,
   "id": "6fa73f53",
   "metadata": {},
   "outputs": [
    {
     "data": {
      "text/plain": [
       "0.15297202797202797"
      ]
     },
     "execution_count": 66,
     "metadata": {},
     "output_type": "execute_result"
    }
   ],
   "source": [
    "tenedores.pmf(3)"
   ]
  },
  {
   "cell_type": "code",
   "execution_count": 67,
   "id": "97110b7c",
   "metadata": {},
   "outputs": [
    {
     "data": {
      "text/plain": [
       "0.2039627039627041"
      ]
     },
     "execution_count": 67,
     "metadata": {},
     "output_type": "execute_result"
    }
   ],
   "source": [
    "tenedores.pmf(4)"
   ]
  },
  {
   "cell_type": "code",
   "execution_count": 68,
   "id": "0f55b31c",
   "metadata": {},
   "outputs": [
    {
     "data": {
      "text/plain": [
       "0.2202797202797206"
      ]
     },
     "execution_count": 68,
     "metadata": {},
     "output_type": "execute_result"
    }
   ],
   "source": [
    "tenedores.pmf(5)"
   ]
  },
  {
   "cell_type": "code",
   "execution_count": 69,
   "id": "57fc910d",
   "metadata": {},
   "outputs": [
    {
     "data": {
      "text/plain": [
       "0.6689976689976695"
      ]
     },
     "execution_count": 69,
     "metadata": {},
     "output_type": "execute_result"
    }
   ],
   "source": [
    "tenedores.pmf([2,3,4,5]).sum()"
   ]
  },
  {
   "cell_type": "markdown",
   "id": "0b80e664",
   "metadata": {},
   "source": [
    "#### 8.1 De los alumnos de una clase, el 60% son genios, el 70% aman el chocolate y el 40% entran en ambas categorías. Determina la probabilidad de que un alumno seleccionado al azar no sea ni un genio ni un amante del chocolate."
   ]
  },
  {
   "cell_type": "code",
   "execution_count": 70,
   "id": "6886bea9",
   "metadata": {},
   "outputs": [
    {
     "data": {
      "text/plain": [
       "0.12000000000000002"
      ]
     },
     "execution_count": 70,
     "metadata": {},
     "output_type": "execute_result"
    }
   ],
   "source": [
    "#genio=.6\n",
    "#chocolate=.7\n",
    "#both=.4\n",
    "p_alumno=(1-.7)*(1-.6)\n",
    "p_alumno"
   ]
  },
  {
   "cell_type": "code",
   "execution_count": 75,
   "id": "a68a9a5c",
   "metadata": {},
   "outputs": [
    {
     "data": {
      "text/plain": [
       "0.16"
      ]
     },
     "execution_count": 75,
     "metadata": {},
     "output_type": "execute_result"
    }
   ],
   "source": [
    "#P(A) = 60% Genios\n",
    "#P(B) = 70% AC\n",
    "\n",
    "#P(AnB)=42%\n",
    "#P Genio que no ama el chocolate\n",
    "#P(A|B)= P(AnB)/P(B)\n",
    "#\n",
    "P=0.4*(0.7-0.3)\n",
    "P"
   ]
  },
  {
   "cell_type": "markdown",
   "id": "1159d292",
   "metadata": {},
   "source": [
    "#### 8.2 Se lanza tres veces, de forma independiente, un dado justo de 6 caras. ¿Qué es más probable: una suma de 11 o una suma de 12?"
   ]
  },
  {
   "cell_type": "code",
   "execution_count": 78,
   "id": "e151eadd",
   "metadata": {},
   "outputs": [
    {
     "name": "stdout",
     "output_type": "stream",
     "text": [
      "Es más probable obtener la suma de 11: 12.5% que la suma de 12: 11.6%\n"
     ]
    }
   ],
   "source": [
    "suma11=[]\n",
    "suma12=[]\n",
    "\n",
    "for i in range(1,7):\n",
    "    for j in range(1,7):\n",
    "        for k in range(1,7):\n",
    "            suma=i+j+k\n",
    "            if suma==11:\n",
    "                suma11.append(suma)\n",
    "            elif suma==12:\n",
    "                suma12.append(suma)\n",
    "\n",
    "total=6**3 #tres lanzamientos con un dado de 6 caras\n",
    "prob11=np.round(len(suma11)/total*100,1)\n",
    "prob12=np.round(len(suma12)/total*100,1)\n",
    "\n",
    "if prob11>prob12:\n",
    "    print(f'Es más probable obtener la suma de 11: {prob11}% que la suma de 12: {prob12}%')\n",
    "else:\n",
    "    print(f'Es más probable obtener la suma de 12: {prob12}% que la suma de 11: {prob11}%')"
   ]
  },
  {
   "cell_type": "markdown",
   "id": "3cecdefb",
   "metadata": {},
   "source": [
    "#### 8.3 Hay que repartir 90 alumnos al azar en 3 clases de igual tamaño. Joe y Jane son dos de los estudiantes. ¿Cuál es la probabilidad de que acaben en la misma clase?"
   ]
  },
  {
   "cell_type": "code",
   "execution_count": 79,
   "id": "2eb74d31",
   "metadata": {},
   "outputs": [],
   "source": [
    "#Estudiantes\n",
    "total=90\n",
    "grupos=3\n",
    "EpC=total/grupos\n",
    "JJ=2\n",
    "\n",
    "def factorial(n):\n",
    "    if n==0:\n",
    "        res=1\n",
    "    else:\n",
    "        res=n*factorial(n-1)\n",
    "    return res"
   ]
  },
  {
   "cell_type": "code",
   "execution_count": 81,
   "id": "407ea892",
   "metadata": {},
   "outputs": [
    {
     "data": {
      "text/plain": [
       "6.731329745065802e+23"
      ]
     },
     "execution_count": 81,
     "metadata": {},
     "output_type": "execute_result"
    }
   ],
   "source": [
    "combinaciones=factorial(total)/(factorial(total-EpC)*factorial(EpC))\n",
    "combinaciones"
   ]
  },
  {
   "cell_type": "code",
   "execution_count": 83,
   "id": "7488baec",
   "metadata": {},
   "outputs": [
    {
     "data": {
      "text/plain": [
       "7.311182120108923e+22"
      ]
     },
     "execution_count": 83,
     "metadata": {},
     "output_type": "execute_result"
    }
   ],
   "source": [
    "DosJ=factorial(total-JJ)/(factorial((total-JJ)-(EpC-JJ))*factorial(EpC-JJ))\n",
    "DosJ"
   ]
  },
  {
   "cell_type": "code",
   "execution_count": 84,
   "id": "179dd64c",
   "metadata": {},
   "outputs": [
    {
     "name": "stdout",
     "output_type": "stream",
     "text": [
      "La probabilidad de que Joe y Jane estén juntos es 32.58%\n"
     ]
    }
   ],
   "source": [
    "print(f'La probabilidad de que Joe y Jane estén juntos es {np.round(3*(DosJ/combinaciones)*100,2)}%')"
   ]
  },
  {
   "cell_type": "markdown",
   "id": "f9d28637",
   "metadata": {},
   "source": [
    "#### 8.4 Se reparte una baraja bien barajada de 52 cartas a 4 jugadores. Encuentra la probabilidad de que cada uno de los jugadores obtenga un as."
   ]
  },
  {
   "cell_type": "code",
   "execution_count": 85,
   "id": "883c6fd0",
   "metadata": {},
   "outputs": [
    {
     "name": "stdout",
     "output_type": "stream",
     "text": [
      "es:10.55%\n"
     ]
    }
   ],
   "source": [
    "total=52\n",
    "manos=4\n",
    "CpM=total/manos\n",
    "As=1\n",
    "combinaciones=factorial(total)/(factorial(manos)*factorial(total-manos))\n",
    "As=factorial(CpM)/(factorial(As)*factorial(CpM-As))\n",
    "print(f'es:{np.round((As**manos/combinaciones)*100,2)}%')"
   ]
  },
  {
   "cell_type": "code",
   "execution_count": null,
   "id": "23f13412",
   "metadata": {},
   "outputs": [],
   "source": []
  }
 ],
 "metadata": {
  "kernelspec": {
   "display_name": "Python 3 (ipykernel)",
   "language": "python",
   "name": "python3"
  },
  "language_info": {
   "codemirror_mode": {
    "name": "ipython",
    "version": 3
   },
   "file_extension": ".py",
   "mimetype": "text/x-python",
   "name": "python",
   "nbconvert_exporter": "python",
   "pygments_lexer": "ipython3",
   "version": "3.9.12"
  }
 },
 "nbformat": 4,
 "nbformat_minor": 5
}
