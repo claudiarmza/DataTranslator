{
 "cells": [
  {
   "cell_type": "markdown",
   "id": "53685815",
   "metadata": {},
   "source": [
    "## Actividad XG Boost"
   ]
  },
  {
   "cell_type": "code",
   "execution_count": 1,
   "id": "9aa0687f",
   "metadata": {},
   "outputs": [
    {
     "name": "stdout",
     "output_type": "stream",
     "text": [
      "Requirement already satisfied: xgboost in c:\\users\\cramireza\\anaconda3\\lib\\site-packages (1.7.2)\n",
      "Requirement already satisfied: numpy in c:\\users\\cramireza\\anaconda3\\lib\\site-packages (from xgboost) (1.21.5)\n",
      "Requirement already satisfied: scipy in c:\\users\\cramireza\\anaconda3\\lib\\site-packages (from xgboost) (1.7.3)\n"
     ]
    }
   ],
   "source": [
    "!pip install xgboost"
   ]
  },
  {
   "cell_type": "markdown",
   "id": "f98d315f",
   "metadata": {},
   "source": [
    "### Parte 1"
   ]
  },
  {
   "cell_type": "markdown",
   "id": "47e61980",
   "metadata": {},
   "source": [
    "- Importar la BD de precios de hogares en Boston\n",
    "- Dividir en conjuntos de entrenamiento y prueba (80-20) con random_state=1"
   ]
  },
  {
   "cell_type": "code",
   "execution_count": 2,
   "id": "6aa29014",
   "metadata": {},
   "outputs": [],
   "source": [
    "import numpy as np\n",
    "import pandas as pd\n",
    "import matplotlib.pyplot as plt\n",
    "import seaborn as sns\n",
    "\n",
    "import xgboost as xgb\n",
    "from xgboost import XGBRegressor\n",
    "\n",
    "from sklearn.model_selection import train_test_split, GridSearchCV\n",
    "from sklearn.linear_model import LinearRegression, Lasso, Ridge, ElasticNet, LogisticRegression\n",
    "from sklearn.neighbors import KNeighborsRegressor\n",
    "from sklearn.tree import DecisionTreeRegressor, plot_tree\n",
    "from sklearn.ensemble import RandomForestRegressor\n",
    "\n",
    "from sklearn.datasets import load_boston\n",
    "\n",
    "%matplotlib inline"
   ]
  },
  {
   "cell_type": "code",
   "execution_count": 3,
   "id": "6b807ed7",
   "metadata": {},
   "outputs": [
    {
     "name": "stderr",
     "output_type": "stream",
     "text": [
      "C:\\Users\\CRAMIREZA\\Anaconda3\\lib\\site-packages\\sklearn\\utils\\deprecation.py:87: FutureWarning: Function load_boston is deprecated; `load_boston` is deprecated in 1.0 and will be removed in 1.2.\n",
      "\n",
      "    The Boston housing prices dataset has an ethical problem. You can refer to\n",
      "    the documentation of this function for further details.\n",
      "\n",
      "    The scikit-learn maintainers therefore strongly discourage the use of this\n",
      "    dataset unless the purpose of the code is to study and educate about\n",
      "    ethical issues in data science and machine learning.\n",
      "\n",
      "    In this special case, you can fetch the dataset from the original\n",
      "    source::\n",
      "\n",
      "        import pandas as pd\n",
      "        import numpy as np\n",
      "\n",
      "\n",
      "        data_url = \"http://lib.stat.cmu.edu/datasets/boston\"\n",
      "        raw_df = pd.read_csv(data_url, sep=\"\\s+\", skiprows=22, header=None)\n",
      "        data = np.hstack([raw_df.values[::2, :], raw_df.values[1::2, :2]])\n",
      "        target = raw_df.values[1::2, 2]\n",
      "\n",
      "    Alternative datasets include the California housing dataset (i.e.\n",
      "    :func:`~sklearn.datasets.fetch_california_housing`) and the Ames housing\n",
      "    dataset. You can load the datasets as follows::\n",
      "\n",
      "        from sklearn.datasets import fetch_california_housing\n",
      "        housing = fetch_california_housing()\n",
      "\n",
      "    for the California housing dataset and::\n",
      "\n",
      "        from sklearn.datasets import fetch_openml\n",
      "        housing = fetch_openml(name=\"house_prices\", as_frame=True)\n",
      "\n",
      "    for the Ames housing dataset.\n",
      "    \n",
      "  warnings.warn(msg, category=FutureWarning)\n"
     ]
    }
   ],
   "source": [
    "boston= load_boston()\n",
    "y=pd.DataFrame(boston.target, columns=[\"Target_price\"])\n",
    "X=pd.DataFrame(boston.data, columns=boston.feature_names)"
   ]
  },
  {
   "cell_type": "code",
   "execution_count": 4,
   "id": "1a1818d9",
   "metadata": {},
   "outputs": [
    {
     "data": {
      "text/html": [
       "<div>\n",
       "<style scoped>\n",
       "    .dataframe tbody tr th:only-of-type {\n",
       "        vertical-align: middle;\n",
       "    }\n",
       "\n",
       "    .dataframe tbody tr th {\n",
       "        vertical-align: top;\n",
       "    }\n",
       "\n",
       "    .dataframe thead th {\n",
       "        text-align: right;\n",
       "    }\n",
       "</style>\n",
       "<table border=\"1\" class=\"dataframe\">\n",
       "  <thead>\n",
       "    <tr style=\"text-align: right;\">\n",
       "      <th></th>\n",
       "      <th>Target_price</th>\n",
       "    </tr>\n",
       "  </thead>\n",
       "  <tbody>\n",
       "    <tr>\n",
       "      <th>0</th>\n",
       "      <td>24.0</td>\n",
       "    </tr>\n",
       "    <tr>\n",
       "      <th>1</th>\n",
       "      <td>21.6</td>\n",
       "    </tr>\n",
       "    <tr>\n",
       "      <th>2</th>\n",
       "      <td>34.7</td>\n",
       "    </tr>\n",
       "    <tr>\n",
       "      <th>3</th>\n",
       "      <td>33.4</td>\n",
       "    </tr>\n",
       "    <tr>\n",
       "      <th>4</th>\n",
       "      <td>36.2</td>\n",
       "    </tr>\n",
       "  </tbody>\n",
       "</table>\n",
       "</div>"
      ],
      "text/plain": [
       "   Target_price\n",
       "0          24.0\n",
       "1          21.6\n",
       "2          34.7\n",
       "3          33.4\n",
       "4          36.2"
      ]
     },
     "execution_count": 4,
     "metadata": {},
     "output_type": "execute_result"
    }
   ],
   "source": [
    "y.head()"
   ]
  },
  {
   "cell_type": "code",
   "execution_count": 5,
   "id": "6b6bcc3f",
   "metadata": {},
   "outputs": [
    {
     "data": {
      "text/html": [
       "<div>\n",
       "<style scoped>\n",
       "    .dataframe tbody tr th:only-of-type {\n",
       "        vertical-align: middle;\n",
       "    }\n",
       "\n",
       "    .dataframe tbody tr th {\n",
       "        vertical-align: top;\n",
       "    }\n",
       "\n",
       "    .dataframe thead th {\n",
       "        text-align: right;\n",
       "    }\n",
       "</style>\n",
       "<table border=\"1\" class=\"dataframe\">\n",
       "  <thead>\n",
       "    <tr style=\"text-align: right;\">\n",
       "      <th></th>\n",
       "      <th>CRIM</th>\n",
       "      <th>ZN</th>\n",
       "      <th>INDUS</th>\n",
       "      <th>CHAS</th>\n",
       "      <th>NOX</th>\n",
       "      <th>RM</th>\n",
       "      <th>AGE</th>\n",
       "      <th>DIS</th>\n",
       "      <th>RAD</th>\n",
       "      <th>TAX</th>\n",
       "      <th>PTRATIO</th>\n",
       "      <th>B</th>\n",
       "      <th>LSTAT</th>\n",
       "    </tr>\n",
       "  </thead>\n",
       "  <tbody>\n",
       "    <tr>\n",
       "      <th>0</th>\n",
       "      <td>0.00632</td>\n",
       "      <td>18.0</td>\n",
       "      <td>2.31</td>\n",
       "      <td>0.0</td>\n",
       "      <td>0.538</td>\n",
       "      <td>6.575</td>\n",
       "      <td>65.2</td>\n",
       "      <td>4.0900</td>\n",
       "      <td>1.0</td>\n",
       "      <td>296.0</td>\n",
       "      <td>15.3</td>\n",
       "      <td>396.90</td>\n",
       "      <td>4.98</td>\n",
       "    </tr>\n",
       "    <tr>\n",
       "      <th>1</th>\n",
       "      <td>0.02731</td>\n",
       "      <td>0.0</td>\n",
       "      <td>7.07</td>\n",
       "      <td>0.0</td>\n",
       "      <td>0.469</td>\n",
       "      <td>6.421</td>\n",
       "      <td>78.9</td>\n",
       "      <td>4.9671</td>\n",
       "      <td>2.0</td>\n",
       "      <td>242.0</td>\n",
       "      <td>17.8</td>\n",
       "      <td>396.90</td>\n",
       "      <td>9.14</td>\n",
       "    </tr>\n",
       "    <tr>\n",
       "      <th>2</th>\n",
       "      <td>0.02729</td>\n",
       "      <td>0.0</td>\n",
       "      <td>7.07</td>\n",
       "      <td>0.0</td>\n",
       "      <td>0.469</td>\n",
       "      <td>7.185</td>\n",
       "      <td>61.1</td>\n",
       "      <td>4.9671</td>\n",
       "      <td>2.0</td>\n",
       "      <td>242.0</td>\n",
       "      <td>17.8</td>\n",
       "      <td>392.83</td>\n",
       "      <td>4.03</td>\n",
       "    </tr>\n",
       "    <tr>\n",
       "      <th>3</th>\n",
       "      <td>0.03237</td>\n",
       "      <td>0.0</td>\n",
       "      <td>2.18</td>\n",
       "      <td>0.0</td>\n",
       "      <td>0.458</td>\n",
       "      <td>6.998</td>\n",
       "      <td>45.8</td>\n",
       "      <td>6.0622</td>\n",
       "      <td>3.0</td>\n",
       "      <td>222.0</td>\n",
       "      <td>18.7</td>\n",
       "      <td>394.63</td>\n",
       "      <td>2.94</td>\n",
       "    </tr>\n",
       "    <tr>\n",
       "      <th>4</th>\n",
       "      <td>0.06905</td>\n",
       "      <td>0.0</td>\n",
       "      <td>2.18</td>\n",
       "      <td>0.0</td>\n",
       "      <td>0.458</td>\n",
       "      <td>7.147</td>\n",
       "      <td>54.2</td>\n",
       "      <td>6.0622</td>\n",
       "      <td>3.0</td>\n",
       "      <td>222.0</td>\n",
       "      <td>18.7</td>\n",
       "      <td>396.90</td>\n",
       "      <td>5.33</td>\n",
       "    </tr>\n",
       "  </tbody>\n",
       "</table>\n",
       "</div>"
      ],
      "text/plain": [
       "      CRIM    ZN  INDUS  CHAS    NOX     RM   AGE     DIS  RAD    TAX  \\\n",
       "0  0.00632  18.0   2.31   0.0  0.538  6.575  65.2  4.0900  1.0  296.0   \n",
       "1  0.02731   0.0   7.07   0.0  0.469  6.421  78.9  4.9671  2.0  242.0   \n",
       "2  0.02729   0.0   7.07   0.0  0.469  7.185  61.1  4.9671  2.0  242.0   \n",
       "3  0.03237   0.0   2.18   0.0  0.458  6.998  45.8  6.0622  3.0  222.0   \n",
       "4  0.06905   0.0   2.18   0.0  0.458  7.147  54.2  6.0622  3.0  222.0   \n",
       "\n",
       "   PTRATIO       B  LSTAT  \n",
       "0     15.3  396.90   4.98  \n",
       "1     17.8  396.90   9.14  \n",
       "2     17.8  392.83   4.03  \n",
       "3     18.7  394.63   2.94  \n",
       "4     18.7  396.90   5.33  "
      ]
     },
     "execution_count": 5,
     "metadata": {},
     "output_type": "execute_result"
    }
   ],
   "source": [
    "X.head()"
   ]
  },
  {
   "cell_type": "code",
   "execution_count": 6,
   "id": "4047f04e",
   "metadata": {},
   "outputs": [],
   "source": [
    "X_train, X_test, y_train, y_test= train_test_split(X,y, test_size=0.20, random_state=1)"
   ]
  },
  {
   "cell_type": "markdown",
   "id": "1057069a",
   "metadata": {},
   "source": [
    "### Parte 2"
   ]
  },
  {
   "cell_type": "markdown",
   "id": "3748520d",
   "metadata": {},
   "source": [
    "- Utilizando los parámetros por defecto, comparer el R-cuadrado de los siguientes modelos: KNeighborRegressor, LinearRegression, Lasso, Ridge, ElasticNet, DecisionTreeRegressor, RandomForestRegressor, XGBRegressor.\n",
    "- Crear un gráfico de barra para observar la comparación de R-cuadrado."
   ]
  },
  {
   "cell_type": "code",
   "execution_count": 7,
   "id": "49e7b80c",
   "metadata": {},
   "outputs": [],
   "source": [
    "#Knn\n",
    "knn=KNeighborsRegressor().fit(X_train, y_train)\n",
    "y_hat_knn= knn.predict(X_test)\n",
    "y_hat_knn=(y_hat_knn).flatten()"
   ]
  },
  {
   "cell_type": "code",
   "execution_count": 8,
   "id": "ce5ea6e2",
   "metadata": {},
   "outputs": [],
   "source": [
    "#LinearR\n",
    "lir=LinearRegression().fit(X_train, y_train)\n",
    "y_hat_lir= lir.predict(X_test)\n",
    "y_hat_lir=(y_hat_lir).flatten()"
   ]
  },
  {
   "cell_type": "code",
   "execution_count": 9,
   "id": "93ffc9ee",
   "metadata": {},
   "outputs": [],
   "source": [
    "#Lasso\n",
    "lasso=Lasso().fit(X_train, y_train)\n",
    "y_hat_lasso= lasso.predict(X_test)\n",
    "y_hat_lasso=(y_hat_lasso).flatten()"
   ]
  },
  {
   "cell_type": "code",
   "execution_count": 10,
   "id": "2b9a97b4",
   "metadata": {},
   "outputs": [],
   "source": [
    "#Ridge\n",
    "ridge=Ridge().fit(X_train, y_train)\n",
    "y_hat_ridge= ridge.predict(X_test)\n",
    "y_hat_ridge=(y_hat_ridge).flatten()"
   ]
  },
  {
   "cell_type": "code",
   "execution_count": 11,
   "id": "2cee6a75",
   "metadata": {},
   "outputs": [],
   "source": [
    "#ElasticNet\n",
    "elast=ElasticNet().fit(X_train, y_train)\n",
    "y_hat_elast=elast.predict(X_test)\n",
    "y_hat_elast=(y_hat_elast).flatten()"
   ]
  },
  {
   "cell_type": "code",
   "execution_count": 12,
   "id": "e412765a",
   "metadata": {},
   "outputs": [],
   "source": [
    "#DecisionTree\n",
    "dtree=DecisionTreeRegressor().fit(X_train, y_train)\n",
    "y_hat_dtree=dtree.predict(X_test)\n",
    "y_hat_dtree=(y_hat_dtree).flatten()"
   ]
  },
  {
   "cell_type": "code",
   "execution_count": 13,
   "id": "21dbf4f1",
   "metadata": {},
   "outputs": [
    {
     "name": "stderr",
     "output_type": "stream",
     "text": [
      "C:\\Users\\CRAMIREZA\\AppData\\Local\\Temp\\ipykernel_17248\\1360143187.py:2: DataConversionWarning: A column-vector y was passed when a 1d array was expected. Please change the shape of y to (n_samples,), for example using ravel().\n",
      "  rand=RandomForestRegressor().fit(X_train, y_train)\n"
     ]
    }
   ],
   "source": [
    "#RandomForest\n",
    "rand=RandomForestRegressor().fit(X_train, y_train)\n",
    "y_hat_rand= rand.predict(X_test)"
   ]
  },
  {
   "cell_type": "code",
   "execution_count": 14,
   "id": "ed3afe6c",
   "metadata": {},
   "outputs": [],
   "source": [
    "#XGBoost\n",
    "xgbm=xgb.XGBRegressor().fit(X_train, y_train)\n",
    "y_hat_xgbm=xgbm.predict(X_test)"
   ]
  },
  {
   "cell_type": "code",
   "execution_count": 15,
   "id": "07223e6b",
   "metadata": {},
   "outputs": [
    {
     "data": {
      "text/html": [
       "<div>\n",
       "<style scoped>\n",
       "    .dataframe tbody tr th:only-of-type {\n",
       "        vertical-align: middle;\n",
       "    }\n",
       "\n",
       "    .dataframe tbody tr th {\n",
       "        vertical-align: top;\n",
       "    }\n",
       "\n",
       "    .dataframe thead th {\n",
       "        text-align: right;\n",
       "    }\n",
       "</style>\n",
       "<table border=\"1\" class=\"dataframe\">\n",
       "  <thead>\n",
       "    <tr style=\"text-align: right;\">\n",
       "      <th></th>\n",
       "      <th>0</th>\n",
       "      <th>1</th>\n",
       "      <th>2</th>\n",
       "      <th>3</th>\n",
       "      <th>4</th>\n",
       "      <th>5</th>\n",
       "      <th>6</th>\n",
       "      <th>7</th>\n",
       "      <th>8</th>\n",
       "      <th>9</th>\n",
       "      <th>...</th>\n",
       "      <th>92</th>\n",
       "      <th>93</th>\n",
       "      <th>94</th>\n",
       "      <th>95</th>\n",
       "      <th>96</th>\n",
       "      <th>97</th>\n",
       "      <th>98</th>\n",
       "      <th>99</th>\n",
       "      <th>100</th>\n",
       "      <th>101</th>\n",
       "    </tr>\n",
       "  </thead>\n",
       "  <tbody>\n",
       "    <tr>\n",
       "      <th>0</th>\n",
       "      <td>30.460000</td>\n",
       "      <td>30.700000</td>\n",
       "      <td>21.720000</td>\n",
       "      <td>26.340000</td>\n",
       "      <td>30.340000</td>\n",
       "      <td>17.660000</td>\n",
       "      <td>37.640000</td>\n",
       "      <td>16.480000</td>\n",
       "      <td>22.540000</td>\n",
       "      <td>24.840000</td>\n",
       "      <td>...</td>\n",
       "      <td>15.160000</td>\n",
       "      <td>20.500000</td>\n",
       "      <td>10.560000</td>\n",
       "      <td>20.440000</td>\n",
       "      <td>21.080000</td>\n",
       "      <td>26.760000</td>\n",
       "      <td>30.680000</td>\n",
       "      <td>22.300000</td>\n",
       "      <td>12.880000</td>\n",
       "      <td>15.840000</td>\n",
       "    </tr>\n",
       "    <tr>\n",
       "      <th>1</th>\n",
       "      <td>32.655032</td>\n",
       "      <td>28.093495</td>\n",
       "      <td>18.029018</td>\n",
       "      <td>21.476716</td>\n",
       "      <td>18.825439</td>\n",
       "      <td>19.879978</td>\n",
       "      <td>32.420149</td>\n",
       "      <td>18.065978</td>\n",
       "      <td>24.422778</td>\n",
       "      <td>27.009778</td>\n",
       "      <td>...</td>\n",
       "      <td>14.111315</td>\n",
       "      <td>23.257361</td>\n",
       "      <td>14.663027</td>\n",
       "      <td>21.869772</td>\n",
       "      <td>23.025276</td>\n",
       "      <td>29.089918</td>\n",
       "      <td>37.119379</td>\n",
       "      <td>20.532710</td>\n",
       "      <td>17.368400</td>\n",
       "      <td>17.713993</td>\n",
       "    </tr>\n",
       "    <tr>\n",
       "      <th>2</th>\n",
       "      <td>30.798187</td>\n",
       "      <td>28.618170</td>\n",
       "      <td>17.964730</td>\n",
       "      <td>23.055233</td>\n",
       "      <td>24.371706</td>\n",
       "      <td>21.183891</td>\n",
       "      <td>31.741681</td>\n",
       "      <td>20.431533</td>\n",
       "      <td>21.608245</td>\n",
       "      <td>26.300548</td>\n",
       "      <td>...</td>\n",
       "      <td>13.169405</td>\n",
       "      <td>24.900467</td>\n",
       "      <td>16.166091</td>\n",
       "      <td>24.254367</td>\n",
       "      <td>23.268625</td>\n",
       "      <td>27.960598</td>\n",
       "      <td>31.878409</td>\n",
       "      <td>19.661706</td>\n",
       "      <td>16.333786</td>\n",
       "      <td>17.484240</td>\n",
       "    </tr>\n",
       "    <tr>\n",
       "      <th>3</th>\n",
       "      <td>32.511398</td>\n",
       "      <td>28.265232</td>\n",
       "      <td>17.528444</td>\n",
       "      <td>21.330290</td>\n",
       "      <td>19.680651</td>\n",
       "      <td>20.055088</td>\n",
       "      <td>32.383830</td>\n",
       "      <td>18.292901</td>\n",
       "      <td>23.712755</td>\n",
       "      <td>26.918769</td>\n",
       "      <td>...</td>\n",
       "      <td>13.420887</td>\n",
       "      <td>23.209437</td>\n",
       "      <td>14.831992</td>\n",
       "      <td>21.782753</td>\n",
       "      <td>23.573650</td>\n",
       "      <td>28.520620</td>\n",
       "      <td>36.926312</td>\n",
       "      <td>20.647504</td>\n",
       "      <td>16.697099</td>\n",
       "      <td>18.279827</td>\n",
       "    </tr>\n",
       "    <tr>\n",
       "      <th>4</th>\n",
       "      <td>31.348467</td>\n",
       "      <td>28.679029</td>\n",
       "      <td>17.886279</td>\n",
       "      <td>22.641323</td>\n",
       "      <td>23.889703</td>\n",
       "      <td>20.881180</td>\n",
       "      <td>31.961031</td>\n",
       "      <td>20.232166</td>\n",
       "      <td>21.577539</td>\n",
       "      <td>26.457594</td>\n",
       "      <td>...</td>\n",
       "      <td>12.680099</td>\n",
       "      <td>24.607877</td>\n",
       "      <td>15.742694</td>\n",
       "      <td>23.848455</td>\n",
       "      <td>23.414344</td>\n",
       "      <td>27.887336</td>\n",
       "      <td>32.827784</td>\n",
       "      <td>19.869735</td>\n",
       "      <td>16.228394</td>\n",
       "      <td>17.852816</td>\n",
       "    </tr>\n",
       "    <tr>\n",
       "      <th>5</th>\n",
       "      <td>29.900000</td>\n",
       "      <td>29.900000</td>\n",
       "      <td>22.500000</td>\n",
       "      <td>18.900000</td>\n",
       "      <td>18.500000</td>\n",
       "      <td>18.200000</td>\n",
       "      <td>24.500000</td>\n",
       "      <td>19.600000</td>\n",
       "      <td>18.900000</td>\n",
       "      <td>22.000000</td>\n",
       "      <td>...</td>\n",
       "      <td>17.800000</td>\n",
       "      <td>21.200000</td>\n",
       "      <td>21.400000</td>\n",
       "      <td>19.600000</td>\n",
       "      <td>22.800000</td>\n",
       "      <td>22.300000</td>\n",
       "      <td>38.700000</td>\n",
       "      <td>21.200000</td>\n",
       "      <td>13.800000</td>\n",
       "      <td>23.200000</td>\n",
       "    </tr>\n",
       "    <tr>\n",
       "      <th>6</th>\n",
       "      <td>30.558000</td>\n",
       "      <td>27.424000</td>\n",
       "      <td>20.160000</td>\n",
       "      <td>20.341000</td>\n",
       "      <td>19.408000</td>\n",
       "      <td>19.868000</td>\n",
       "      <td>27.511000</td>\n",
       "      <td>18.774000</td>\n",
       "      <td>20.803000</td>\n",
       "      <td>23.461000</td>\n",
       "      <td>...</td>\n",
       "      <td>15.923000</td>\n",
       "      <td>21.195000</td>\n",
       "      <td>14.220000</td>\n",
       "      <td>20.717000</td>\n",
       "      <td>23.884000</td>\n",
       "      <td>23.808000</td>\n",
       "      <td>43.401000</td>\n",
       "      <td>20.731000</td>\n",
       "      <td>15.757000</td>\n",
       "      <td>15.225000</td>\n",
       "    </tr>\n",
       "    <tr>\n",
       "      <th>7</th>\n",
       "      <td>30.359884</td>\n",
       "      <td>27.026636</td>\n",
       "      <td>19.176161</td>\n",
       "      <td>21.448114</td>\n",
       "      <td>20.703493</td>\n",
       "      <td>20.424747</td>\n",
       "      <td>27.903601</td>\n",
       "      <td>17.878405</td>\n",
       "      <td>21.678137</td>\n",
       "      <td>23.365129</td>\n",
       "      <td>...</td>\n",
       "      <td>15.133404</td>\n",
       "      <td>20.947332</td>\n",
       "      <td>14.996857</td>\n",
       "      <td>20.791437</td>\n",
       "      <td>24.775454</td>\n",
       "      <td>23.958286</td>\n",
       "      <td>45.176277</td>\n",
       "      <td>22.567810</td>\n",
       "      <td>15.780695</td>\n",
       "      <td>16.750847</td>\n",
       "    </tr>\n",
       "  </tbody>\n",
       "</table>\n",
       "<p>8 rows × 102 columns</p>\n",
       "</div>"
      ],
      "text/plain": [
       "         0          1          2          3          4          5    \\\n",
       "0  30.460000  30.700000  21.720000  26.340000  30.340000  17.660000   \n",
       "1  32.655032  28.093495  18.029018  21.476716  18.825439  19.879978   \n",
       "2  30.798187  28.618170  17.964730  23.055233  24.371706  21.183891   \n",
       "3  32.511398  28.265232  17.528444  21.330290  19.680651  20.055088   \n",
       "4  31.348467  28.679029  17.886279  22.641323  23.889703  20.881180   \n",
       "5  29.900000  29.900000  22.500000  18.900000  18.500000  18.200000   \n",
       "6  30.558000  27.424000  20.160000  20.341000  19.408000  19.868000   \n",
       "7  30.359884  27.026636  19.176161  21.448114  20.703493  20.424747   \n",
       "\n",
       "         6          7          8          9    ...        92         93   \\\n",
       "0  37.640000  16.480000  22.540000  24.840000  ...  15.160000  20.500000   \n",
       "1  32.420149  18.065978  24.422778  27.009778  ...  14.111315  23.257361   \n",
       "2  31.741681  20.431533  21.608245  26.300548  ...  13.169405  24.900467   \n",
       "3  32.383830  18.292901  23.712755  26.918769  ...  13.420887  23.209437   \n",
       "4  31.961031  20.232166  21.577539  26.457594  ...  12.680099  24.607877   \n",
       "5  24.500000  19.600000  18.900000  22.000000  ...  17.800000  21.200000   \n",
       "6  27.511000  18.774000  20.803000  23.461000  ...  15.923000  21.195000   \n",
       "7  27.903601  17.878405  21.678137  23.365129  ...  15.133404  20.947332   \n",
       "\n",
       "         94         95         96         97         98         99   \\\n",
       "0  10.560000  20.440000  21.080000  26.760000  30.680000  22.300000   \n",
       "1  14.663027  21.869772  23.025276  29.089918  37.119379  20.532710   \n",
       "2  16.166091  24.254367  23.268625  27.960598  31.878409  19.661706   \n",
       "3  14.831992  21.782753  23.573650  28.520620  36.926312  20.647504   \n",
       "4  15.742694  23.848455  23.414344  27.887336  32.827784  19.869735   \n",
       "5  21.400000  19.600000  22.800000  22.300000  38.700000  21.200000   \n",
       "6  14.220000  20.717000  23.884000  23.808000  43.401000  20.731000   \n",
       "7  14.996857  20.791437  24.775454  23.958286  45.176277  22.567810   \n",
       "\n",
       "         100        101  \n",
       "0  12.880000  15.840000  \n",
       "1  17.368400  17.713993  \n",
       "2  16.333786  17.484240  \n",
       "3  16.697099  18.279827  \n",
       "4  16.228394  17.852816  \n",
       "5  13.800000  23.200000  \n",
       "6  15.757000  15.225000  \n",
       "7  15.780695  16.750847  \n",
       "\n",
       "[8 rows x 102 columns]"
      ]
     },
     "execution_count": 15,
     "metadata": {},
     "output_type": "execute_result"
    }
   ],
   "source": [
    "df_hats=pd.DataFrame(data=[y_hat_knn, y_hat_lir, y_hat_lasso, y_hat_ridge, y_hat_elast, y_hat_dtree, y_hat_rand, y_hat_xgbm]) #agregar resto de y hats\n",
    "df_hats"
   ]
  },
  {
   "cell_type": "code",
   "execution_count": 16,
   "id": "a64f3231",
   "metadata": {},
   "outputs": [
    {
     "data": {
      "text/html": [
       "<div>\n",
       "<style scoped>\n",
       "    .dataframe tbody tr th:only-of-type {\n",
       "        vertical-align: middle;\n",
       "    }\n",
       "\n",
       "    .dataframe tbody tr th {\n",
       "        vertical-align: top;\n",
       "    }\n",
       "\n",
       "    .dataframe thead th {\n",
       "        text-align: right;\n",
       "    }\n",
       "</style>\n",
       "<table border=\"1\" class=\"dataframe\">\n",
       "  <thead>\n",
       "    <tr style=\"text-align: right;\">\n",
       "      <th></th>\n",
       "      <th>y_hat_knn</th>\n",
       "      <th>y_hat_lir</th>\n",
       "      <th>y_hat_lasso</th>\n",
       "      <th>y_hat_ridge</th>\n",
       "      <th>y_hat_elast</th>\n",
       "      <th>y_hat_dtree</th>\n",
       "      <th>y_hat_rand</th>\n",
       "      <th>y_hat_xgbm</th>\n",
       "    </tr>\n",
       "  </thead>\n",
       "  <tbody>\n",
       "    <tr>\n",
       "      <th>0</th>\n",
       "      <td>30.46</td>\n",
       "      <td>32.655032</td>\n",
       "      <td>30.798187</td>\n",
       "      <td>32.511398</td>\n",
       "      <td>31.348467</td>\n",
       "      <td>29.9</td>\n",
       "      <td>30.558</td>\n",
       "      <td>30.359884</td>\n",
       "    </tr>\n",
       "    <tr>\n",
       "      <th>1</th>\n",
       "      <td>30.70</td>\n",
       "      <td>28.093495</td>\n",
       "      <td>28.618170</td>\n",
       "      <td>28.265232</td>\n",
       "      <td>28.679029</td>\n",
       "      <td>29.9</td>\n",
       "      <td>27.424</td>\n",
       "      <td>27.026636</td>\n",
       "    </tr>\n",
       "    <tr>\n",
       "      <th>2</th>\n",
       "      <td>21.72</td>\n",
       "      <td>18.029018</td>\n",
       "      <td>17.964730</td>\n",
       "      <td>17.528444</td>\n",
       "      <td>17.886279</td>\n",
       "      <td>22.5</td>\n",
       "      <td>20.160</td>\n",
       "      <td>19.176161</td>\n",
       "    </tr>\n",
       "    <tr>\n",
       "      <th>3</th>\n",
       "      <td>26.34</td>\n",
       "      <td>21.476716</td>\n",
       "      <td>23.055233</td>\n",
       "      <td>21.330290</td>\n",
       "      <td>22.641323</td>\n",
       "      <td>18.9</td>\n",
       "      <td>20.341</td>\n",
       "      <td>21.448114</td>\n",
       "    </tr>\n",
       "    <tr>\n",
       "      <th>4</th>\n",
       "      <td>30.34</td>\n",
       "      <td>18.825439</td>\n",
       "      <td>24.371706</td>\n",
       "      <td>19.680651</td>\n",
       "      <td>23.889703</td>\n",
       "      <td>18.5</td>\n",
       "      <td>19.408</td>\n",
       "      <td>20.703493</td>\n",
       "    </tr>\n",
       "    <tr>\n",
       "      <th>...</th>\n",
       "      <td>...</td>\n",
       "      <td>...</td>\n",
       "      <td>...</td>\n",
       "      <td>...</td>\n",
       "      <td>...</td>\n",
       "      <td>...</td>\n",
       "      <td>...</td>\n",
       "      <td>...</td>\n",
       "    </tr>\n",
       "    <tr>\n",
       "      <th>97</th>\n",
       "      <td>26.76</td>\n",
       "      <td>29.089918</td>\n",
       "      <td>27.960598</td>\n",
       "      <td>28.520620</td>\n",
       "      <td>27.887336</td>\n",
       "      <td>22.3</td>\n",
       "      <td>23.808</td>\n",
       "      <td>23.958286</td>\n",
       "    </tr>\n",
       "    <tr>\n",
       "      <th>98</th>\n",
       "      <td>30.68</td>\n",
       "      <td>37.119379</td>\n",
       "      <td>31.878409</td>\n",
       "      <td>36.926312</td>\n",
       "      <td>32.827784</td>\n",
       "      <td>38.7</td>\n",
       "      <td>43.401</td>\n",
       "      <td>45.176277</td>\n",
       "    </tr>\n",
       "    <tr>\n",
       "      <th>99</th>\n",
       "      <td>22.30</td>\n",
       "      <td>20.532710</td>\n",
       "      <td>19.661706</td>\n",
       "      <td>20.647504</td>\n",
       "      <td>19.869735</td>\n",
       "      <td>21.2</td>\n",
       "      <td>20.731</td>\n",
       "      <td>22.567810</td>\n",
       "    </tr>\n",
       "    <tr>\n",
       "      <th>100</th>\n",
       "      <td>12.88</td>\n",
       "      <td>17.368400</td>\n",
       "      <td>16.333786</td>\n",
       "      <td>16.697099</td>\n",
       "      <td>16.228394</td>\n",
       "      <td>13.8</td>\n",
       "      <td>15.757</td>\n",
       "      <td>15.780695</td>\n",
       "    </tr>\n",
       "    <tr>\n",
       "      <th>101</th>\n",
       "      <td>15.84</td>\n",
       "      <td>17.713993</td>\n",
       "      <td>17.484240</td>\n",
       "      <td>18.279827</td>\n",
       "      <td>17.852816</td>\n",
       "      <td>23.2</td>\n",
       "      <td>15.225</td>\n",
       "      <td>16.750847</td>\n",
       "    </tr>\n",
       "  </tbody>\n",
       "</table>\n",
       "<p>102 rows × 8 columns</p>\n",
       "</div>"
      ],
      "text/plain": [
       "     y_hat_knn  y_hat_lir  y_hat_lasso  y_hat_ridge  y_hat_elast  y_hat_dtree  \\\n",
       "0        30.46  32.655032    30.798187    32.511398    31.348467         29.9   \n",
       "1        30.70  28.093495    28.618170    28.265232    28.679029         29.9   \n",
       "2        21.72  18.029018    17.964730    17.528444    17.886279         22.5   \n",
       "3        26.34  21.476716    23.055233    21.330290    22.641323         18.9   \n",
       "4        30.34  18.825439    24.371706    19.680651    23.889703         18.5   \n",
       "..         ...        ...          ...          ...          ...          ...   \n",
       "97       26.76  29.089918    27.960598    28.520620    27.887336         22.3   \n",
       "98       30.68  37.119379    31.878409    36.926312    32.827784         38.7   \n",
       "99       22.30  20.532710    19.661706    20.647504    19.869735         21.2   \n",
       "100      12.88  17.368400    16.333786    16.697099    16.228394         13.8   \n",
       "101      15.84  17.713993    17.484240    18.279827    17.852816         23.2   \n",
       "\n",
       "     y_hat_rand  y_hat_xgbm  \n",
       "0        30.558   30.359884  \n",
       "1        27.424   27.026636  \n",
       "2        20.160   19.176161  \n",
       "3        20.341   21.448114  \n",
       "4        19.408   20.703493  \n",
       "..          ...         ...  \n",
       "97       23.808   23.958286  \n",
       "98       43.401   45.176277  \n",
       "99       20.731   22.567810  \n",
       "100      15.757   15.780695  \n",
       "101      15.225   16.750847  \n",
       "\n",
       "[102 rows x 8 columns]"
      ]
     },
     "execution_count": 16,
     "metadata": {},
     "output_type": "execute_result"
    }
   ],
   "source": [
    "df_hats=df_hats.T\n",
    "df_hats.columns=[\"y_hat_knn\", \"y_hat_lir\", \"y_hat_lasso\", \"y_hat_ridge\", \"y_hat_elast\", \"y_hat_dtree\", \"y_hat_rand\", \"y_hat_xgbm\"]\n",
    "df_hats"
   ]
  },
  {
   "cell_type": "code",
   "execution_count": 17,
   "id": "27bef6e6",
   "metadata": {},
   "outputs": [],
   "source": [
    "from sklearn.metrics import r2_score"
   ]
  },
  {
   "cell_type": "code",
   "execution_count": 18,
   "id": "dfb8c673",
   "metadata": {},
   "outputs": [
    {
     "name": "stdout",
     "output_type": "stream",
     "text": [
      "[0.5401612153026705, 0.7634174432138463, 0.6399927356461494, 0.7655800611077146, 0.6662534357446656, 0.6856541434500458, 0.9074871132620714, 0.9085331557145866]\n"
     ]
    }
   ],
   "source": [
    "df_results=[]\n",
    "for i in df_hats.columns:\n",
    "    r2=r2_score(y_test, df_hats[i])\n",
    "    df_results.append(r2)\n",
    "print(df_results)\n",
    "#bosque aleatorio y xgb tiene parámetros más cercanos."
   ]
  },
  {
   "cell_type": "code",
   "execution_count": 19,
   "id": "ebf6a522",
   "metadata": {},
   "outputs": [],
   "source": [
    "df_results= pd.DataFrame(data=df_results)\n",
    "df_results= df_results.T\n",
    "df_results.columns=[\"y_hat_knn\", \"y_hat_lir\", \"y_hat_lasso\", \"y_hat_ridge\", \"y_hat_elast\", \"y_hat_dtree\", \"y_hat_rand\", \"y_hat_xgbm\"]"
   ]
  },
  {
   "cell_type": "code",
   "execution_count": 20,
   "id": "001b07af",
   "metadata": {},
   "outputs": [
    {
     "data": {
      "image/png": "[encoded data removed]",
      "text/plain": [
       "<Figure size 1080x576 with 1 Axes>"
      ]
     },
     "metadata": {
      "needs_background": "light"
     },
     "output_type": "display_data"
    }
   ],
   "source": [
    "fig, ax= plt.subplots(figsize=(15,8))\n",
    "plt.bar(df_results.columns, sorted(df_results.T[0]), color=\"green\")\n",
    "plt.ylabel(\"r2 score\")\n",
    "plt.xlabel(\"Model\")\n",
    "plt.show()"
   ]
  },
  {
   "cell_type": "markdown",
   "id": "fe2fbb2a",
   "metadata": {},
   "source": [
    "- Mejorar los hiperparámetros de cada uno\n",
    "- Crear un grafico de barra para comparar los modelos mejorados\n",
    "- ¿Cuál de ellos fue el mejor y el peor?"
   ]
  },
  {
   "cell_type": "code",
   "execution_count": 21,
   "id": "dee80818",
   "metadata": {},
   "outputs": [],
   "source": [
    "#Función para hacer un gridsearch\n",
    "def gs_best(params, model, model_name):\n",
    "    gs=GridSearchCV(model(), params, cv=5, n_jobs=1, verbose=1)\n",
    "    gs.fit(X_train, y_train)\n",
    "    best= model(**gs.best_params_).fit(X_train, y_train)\n",
    "    y_hat= best.predict(X_test)\n",
    "    r2=r2_score(y_test, y_hat)\n",
    "    \n",
    "    return model_name, r2"
   ]
  },
  {
   "cell_type": "code",
   "execution_count": 22,
   "id": "31479278",
   "metadata": {},
   "outputs": [],
   "source": [
    "knn_params= {\"n_neighbors\":[3,5,7,9], \"metric\":[\"manhattan\", \"euclidean\"], \"weights\":[\"uniform\", \"distance\"]}"
   ]
  },
  {
   "cell_type": "code",
   "execution_count": 23,
   "id": "609b8f37",
   "metadata": {},
   "outputs": [
    {
     "name": "stdout",
     "output_type": "stream",
     "text": [
      "Fitting 5 folds for each of 16 candidates, totalling 80 fits\n"
     ]
    },
    {
     "data": {
      "text/plain": [
       "0.6508830800717474"
      ]
     },
     "execution_count": 23,
     "metadata": {},
     "output_type": "execute_result"
    }
   ],
   "source": [
    "(model, r2_knn)=gs_best(knn_params, KNeighborsRegressor, \"KNN\")\n",
    "r2_knn\n",
    "#debe dar como 65"
   ]
  },
  {
   "cell_type": "code",
   "execution_count": 24,
   "id": "1031cc9c",
   "metadata": {},
   "outputs": [],
   "source": [
    "params_xgbm={\"max_depth\":[4,5], \"n_estimators\":[10,20,30], \"learning_rate\":[0.3,0.03]}"
   ]
  },
  {
   "cell_type": "code",
   "execution_count": 25,
   "id": "62dea923",
   "metadata": {},
   "outputs": [
    {
     "name": "stdout",
     "output_type": "stream",
     "text": [
      "Fitting 5 folds for each of 12 candidates, totalling 60 fits\n"
     ]
    },
    {
     "data": {
      "text/plain": [
       "0.9177082576000329"
      ]
     },
     "execution_count": 25,
     "metadata": {},
     "output_type": "execute_result"
    }
   ],
   "source": [
    "(model, r2_xgbm)= gs_best(params_xgbm, xgb.XGBRegressor, \"XGBM\")\n",
    "r2_xgbm"
   ]
  },
  {
   "cell_type": "code",
   "execution_count": 26,
   "id": "c4ca6a75",
   "metadata": {},
   "outputs": [],
   "source": [
    "#mejoramiento de hiperparámetros del resto de los modelos:\n",
    "params_lir={}\n",
    "params_lasso={\"alpha\":[0.0001,0.001,0.01, 0.1, 1, 100, 1000, 10000]}\n",
    "params_ridge={\"alpha\":[0.0001,0.001,0.01, 0.1, 1, 100, 1000, 10000]}\n",
    "params_elast={\"alpha\":[0.0001,0.001,0.01, 0.1, 1, 100, 1000, 10000], \"max_iter\":[10000]}\n",
    "params_dtree={\"splitter\":['best','random'], \"max_depth\":[1,2,3,4,5]}\n",
    "params_rand={\"max_depth\":[1,2,3,4,5]}"
   ]
  },
  {
   "cell_type": "code",
   "execution_count": 27,
   "id": "97f51f74",
   "metadata": {},
   "outputs": [
    {
     "name": "stdout",
     "output_type": "stream",
     "text": [
      "Fitting 5 folds for each of 1 candidates, totalling 5 fits\n"
     ]
    },
    {
     "data": {
      "text/plain": [
       "0.7634174432138463"
      ]
     },
     "execution_count": 27,
     "metadata": {},
     "output_type": "execute_result"
    }
   ],
   "source": [
    "(model, r2_lir)= gs_best(params_lir, LinearRegression, \"LinearRegression\")\n",
    "r2_lir"
   ]
  },
  {
   "cell_type": "code",
   "execution_count": 28,
   "id": "d05223f5",
   "metadata": {},
   "outputs": [
    {
     "name": "stdout",
     "output_type": "stream",
     "text": [
      "Fitting 5 folds for each of 8 candidates, totalling 40 fits\n"
     ]
    },
    {
     "data": {
      "text/plain": [
       "0.7634260972164932"
      ]
     },
     "execution_count": 28,
     "metadata": {},
     "output_type": "execute_result"
    }
   ],
   "source": [
    "(model, r2_lasso)= gs_best(params_lasso, Lasso, \"Lasso\")\n",
    "r2_lasso"
   ]
  },
  {
   "cell_type": "code",
   "execution_count": 29,
   "id": "f4fddc97",
   "metadata": {},
   "outputs": [
    {
     "name": "stdout",
     "output_type": "stream",
     "text": [
      "Fitting 5 folds for each of 8 candidates, totalling 40 fits\n"
     ]
    },
    {
     "data": {
      "text/plain": [
       "0.7635045352106552"
      ]
     },
     "execution_count": 29,
     "metadata": {},
     "output_type": "execute_result"
    }
   ],
   "source": [
    "(model, r2_ridge)= gs_best(params_ridge, Ridge, \"Ridge\")\n",
    "r2_ridge"
   ]
  },
  {
   "cell_type": "code",
   "execution_count": 30,
   "id": "012121bf",
   "metadata": {},
   "outputs": [
    {
     "name": "stdout",
     "output_type": "stream",
     "text": [
      "Fitting 5 folds for each of 8 candidates, totalling 40 fits\n"
     ]
    },
    {
     "data": {
      "text/plain": [
       "0.7635941148115567"
      ]
     },
     "execution_count": 30,
     "metadata": {},
     "output_type": "execute_result"
    }
   ],
   "source": [
    "(model, r2_elast)= gs_best(params_elast, ElasticNet, \"ElasticNet\")\n",
    "r2_elast"
   ]
  },
  {
   "cell_type": "code",
   "execution_count": 31,
   "id": "4df59537",
   "metadata": {},
   "outputs": [
    {
     "name": "stdout",
     "output_type": "stream",
     "text": [
      "Fitting 5 folds for each of 10 candidates, totalling 50 fits\n"
     ]
    },
    {
     "data": {
      "text/plain": [
       "0.8587673393049853"
      ]
     },
     "execution_count": 31,
     "metadata": {},
     "output_type": "execute_result"
    }
   ],
   "source": [
    "(model, r2_dtree)= gs_best(params_dtree, DecisionTreeRegressor, \"DecisionTree\")\n",
    "r2_dtree"
   ]
  },
  {
   "cell_type": "code",
   "execution_count": 32,
   "id": "4c588374",
   "metadata": {},
   "outputs": [
    {
     "name": "stdout",
     "output_type": "stream",
     "text": [
      "Fitting 5 folds for each of 5 candidates, totalling 25 fits\n"
     ]
    },
    {
     "name": "stderr",
     "output_type": "stream",
     "text": [
      "C:\\Users\\CRAMIREZA\\Anaconda3\\lib\\site-packages\\sklearn\\model_selection\\_validation.py:680: DataConversionWarning: A column-vector y was passed when a 1d array was expected. Please change the shape of y to (n_samples,), for example using ravel().\n",
      "  estimator.fit(X_train, y_train, **fit_params)\n",
      "C:\\Users\\CRAMIREZA\\Anaconda3\\lib\\site-packages\\sklearn\\model_selection\\_validation.py:680: DataConversionWarning: A column-vector y was passed when a 1d array was expected. Please change the shape of y to (n_samples,), for example using ravel().\n",
      "  estimator.fit(X_train, y_train, **fit_params)\n",
      "C:\\Users\\CRAMIREZA\\Anaconda3\\lib\\site-packages\\sklearn\\model_selection\\_validation.py:680: DataConversionWarning: A column-vector y was passed when a 1d array was expected. Please change the shape of y to (n_samples,), for example using ravel().\n",
      "  estimator.fit(X_train, y_train, **fit_params)\n",
      "C:\\Users\\CRAMIREZA\\Anaconda3\\lib\\site-packages\\sklearn\\model_selection\\_validation.py:680: DataConversionWarning: A column-vector y was passed when a 1d array was expected. Please change the shape of y to (n_samples,), for example using ravel().\n",
      "  estimator.fit(X_train, y_train, **fit_params)\n",
      "C:\\Users\\CRAMIREZA\\Anaconda3\\lib\\site-packages\\sklearn\\model_selection\\_validation.py:680: DataConversionWarning: A column-vector y was passed when a 1d array was expected. Please change the shape of y to (n_samples,), for example using ravel().\n",
      "  estimator.fit(X_train, y_train, **fit_params)\n",
      "C:\\Users\\CRAMIREZA\\Anaconda3\\lib\\site-packages\\sklearn\\model_selection\\_validation.py:680: DataConversionWarning: A column-vector y was passed when a 1d array was expected. Please change the shape of y to (n_samples,), for example using ravel().\n",
      "  estimator.fit(X_train, y_train, **fit_params)\n",
      "C:\\Users\\CRAMIREZA\\Anaconda3\\lib\\site-packages\\sklearn\\model_selection\\_validation.py:680: DataConversionWarning: A column-vector y was passed when a 1d array was expected. Please change the shape of y to (n_samples,), for example using ravel().\n",
      "  estimator.fit(X_train, y_train, **fit_params)\n",
      "C:\\Users\\CRAMIREZA\\Anaconda3\\lib\\site-packages\\sklearn\\model_selection\\_validation.py:680: DataConversionWarning: A column-vector y was passed when a 1d array was expected. Please change the shape of y to (n_samples,), for example using ravel().\n",
      "  estimator.fit(X_train, y_train, **fit_params)\n",
      "C:\\Users\\CRAMIREZA\\Anaconda3\\lib\\site-packages\\sklearn\\model_selection\\_validation.py:680: DataConversionWarning: A column-vector y was passed when a 1d array was expected. Please change the shape of y to (n_samples,), for example using ravel().\n",
      "  estimator.fit(X_train, y_train, **fit_params)\n",
      "C:\\Users\\CRAMIREZA\\Anaconda3\\lib\\site-packages\\sklearn\\model_selection\\_validation.py:680: DataConversionWarning: A column-vector y was passed when a 1d array was expected. Please change the shape of y to (n_samples,), for example using ravel().\n",
      "  estimator.fit(X_train, y_train, **fit_params)\n",
      "C:\\Users\\CRAMIREZA\\Anaconda3\\lib\\site-packages\\sklearn\\model_selection\\_validation.py:680: DataConversionWarning: A column-vector y was passed when a 1d array was expected. Please change the shape of y to (n_samples,), for example using ravel().\n",
      "  estimator.fit(X_train, y_train, **fit_params)\n",
      "C:\\Users\\CRAMIREZA\\Anaconda3\\lib\\site-packages\\sklearn\\model_selection\\_validation.py:680: DataConversionWarning: A column-vector y was passed when a 1d array was expected. Please change the shape of y to (n_samples,), for example using ravel().\n",
      "  estimator.fit(X_train, y_train, **fit_params)\n",
      "C:\\Users\\CRAMIREZA\\Anaconda3\\lib\\site-packages\\sklearn\\model_selection\\_validation.py:680: DataConversionWarning: A column-vector y was passed when a 1d array was expected. Please change the shape of y to (n_samples,), for example using ravel().\n",
      "  estimator.fit(X_train, y_train, **fit_params)\n",
      "C:\\Users\\CRAMIREZA\\Anaconda3\\lib\\site-packages\\sklearn\\model_selection\\_validation.py:680: DataConversionWarning: A column-vector y was passed when a 1d array was expected. Please change the shape of y to (n_samples,), for example using ravel().\n",
      "  estimator.fit(X_train, y_train, **fit_params)\n",
      "C:\\Users\\CRAMIREZA\\Anaconda3\\lib\\site-packages\\sklearn\\model_selection\\_validation.py:680: DataConversionWarning: A column-vector y was passed when a 1d array was expected. Please change the shape of y to (n_samples,), for example using ravel().\n",
      "  estimator.fit(X_train, y_train, **fit_params)\n",
      "C:\\Users\\CRAMIREZA\\Anaconda3\\lib\\site-packages\\sklearn\\model_selection\\_validation.py:680: DataConversionWarning: A column-vector y was passed when a 1d array was expected. Please change the shape of y to (n_samples,), for example using ravel().\n",
      "  estimator.fit(X_train, y_train, **fit_params)\n",
      "C:\\Users\\CRAMIREZA\\Anaconda3\\lib\\site-packages\\sklearn\\model_selection\\_validation.py:680: DataConversionWarning: A column-vector y was passed when a 1d array was expected. Please change the shape of y to (n_samples,), for example using ravel().\n",
      "  estimator.fit(X_train, y_train, **fit_params)\n",
      "C:\\Users\\CRAMIREZA\\Anaconda3\\lib\\site-packages\\sklearn\\model_selection\\_validation.py:680: DataConversionWarning: A column-vector y was passed when a 1d array was expected. Please change the shape of y to (n_samples,), for example using ravel().\n",
      "  estimator.fit(X_train, y_train, **fit_params)\n",
      "C:\\Users\\CRAMIREZA\\Anaconda3\\lib\\site-packages\\sklearn\\model_selection\\_validation.py:680: DataConversionWarning: A column-vector y was passed when a 1d array was expected. Please change the shape of y to (n_samples,), for example using ravel().\n",
      "  estimator.fit(X_train, y_train, **fit_params)\n",
      "C:\\Users\\CRAMIREZA\\Anaconda3\\lib\\site-packages\\sklearn\\model_selection\\_validation.py:680: DataConversionWarning: A column-vector y was passed when a 1d array was expected. Please change the shape of y to (n_samples,), for example using ravel().\n",
      "  estimator.fit(X_train, y_train, **fit_params)\n",
      "C:\\Users\\CRAMIREZA\\Anaconda3\\lib\\site-packages\\sklearn\\model_selection\\_validation.py:680: DataConversionWarning: A column-vector y was passed when a 1d array was expected. Please change the shape of y to (n_samples,), for example using ravel().\n",
      "  estimator.fit(X_train, y_train, **fit_params)\n",
      "C:\\Users\\CRAMIREZA\\Anaconda3\\lib\\site-packages\\sklearn\\model_selection\\_validation.py:680: DataConversionWarning: A column-vector y was passed when a 1d array was expected. Please change the shape of y to (n_samples,), for example using ravel().\n",
      "  estimator.fit(X_train, y_train, **fit_params)\n",
      "C:\\Users\\CRAMIREZA\\Anaconda3\\lib\\site-packages\\sklearn\\model_selection\\_validation.py:680: DataConversionWarning: A column-vector y was passed when a 1d array was expected. Please change the shape of y to (n_samples,), for example using ravel().\n",
      "  estimator.fit(X_train, y_train, **fit_params)\n",
      "C:\\Users\\CRAMIREZA\\Anaconda3\\lib\\site-packages\\sklearn\\model_selection\\_validation.py:680: DataConversionWarning: A column-vector y was passed when a 1d array was expected. Please change the shape of y to (n_samples,), for example using ravel().\n",
      "  estimator.fit(X_train, y_train, **fit_params)\n",
      "C:\\Users\\CRAMIREZA\\Anaconda3\\lib\\site-packages\\sklearn\\model_selection\\_validation.py:680: DataConversionWarning: A column-vector y was passed when a 1d array was expected. Please change the shape of y to (n_samples,), for example using ravel().\n",
      "  estimator.fit(X_train, y_train, **fit_params)\n",
      "C:\\Users\\CRAMIREZA\\Anaconda3\\lib\\site-packages\\sklearn\\model_selection\\_search.py:926: DataConversionWarning: A column-vector y was passed when a 1d array was expected. Please change the shape of y to (n_samples,), for example using ravel().\n",
      "  self.best_estimator_.fit(X, y, **fit_params)\n",
      "C:\\Users\\CRAMIREZA\\AppData\\Local\\Temp\\ipykernel_17248\\3137816868.py:5: DataConversionWarning: A column-vector y was passed when a 1d array was expected. Please change the shape of y to (n_samples,), for example using ravel().\n",
      "  best= model(**gs.best_params_).fit(X_train, y_train)\n"
     ]
    },
    {
     "data": {
      "text/plain": [
       "0.9061500285036109"
      ]
     },
     "execution_count": 32,
     "metadata": {},
     "output_type": "execute_result"
    }
   ],
   "source": [
    "(model, r2_rand)= gs_best(params_rand, RandomForestRegressor, \"RandomForest\")\n",
    "r2_rand"
   ]
  },
  {
   "cell_type": "code",
   "execution_count": 33,
   "id": "a34b6f37",
   "metadata": {},
   "outputs": [],
   "source": [
    "df_results2= pd.DataFrame(data=[r2_knn, r2_lir, r2_lasso, r2_ridge, r2_elast, r2_dtree, r2_rand, r2_xgbm])\n",
    "df_results2= df_results2.T\n",
    "df_results2.columns=[\"knn\", \"lir\", \"lasso\", \"ridge\", \"elast\", \"dtree\", \"rand\", \"xgbm\"]"
   ]
  },
  {
   "cell_type": "code",
   "execution_count": 34,
   "id": "7d66e139",
   "metadata": {},
   "outputs": [
    {
     "data": {
      "image/png": "[encoded data removed]",
      "text/plain": [
       "<Figure size 1080x576 with 1 Axes>"
      ]
     },
     "metadata": {
      "needs_background": "light"
     },
     "output_type": "display_data"
    }
   ],
   "source": [
    "fig, ax= plt.subplots(figsize=(15,8))\n",
    "plt.bar(df_results2.columns, sorted(df_results2.T[0]), color=\"blue\")\n",
    "plt.ylabel(\"r2 score\")\n",
    "plt.xlabel(\"Model\")\n",
    "plt.title(\"Mejora en parámetros de modelos\")\n",
    "plt.show()"
   ]
  },
  {
   "cell_type": "code",
   "execution_count": 35,
   "id": "5c473eff",
   "metadata": {},
   "outputs": [
    {
     "data": {
      "text/html": [
       "<div>\n",
       "<style scoped>\n",
       "    .dataframe tbody tr th:only-of-type {\n",
       "        vertical-align: middle;\n",
       "    }\n",
       "\n",
       "    .dataframe tbody tr th {\n",
       "        vertical-align: top;\n",
       "    }\n",
       "\n",
       "    .dataframe thead th {\n",
       "        text-align: right;\n",
       "    }\n",
       "</style>\n",
       "<table border=\"1\" class=\"dataframe\">\n",
       "  <thead>\n",
       "    <tr style=\"text-align: right;\">\n",
       "      <th></th>\n",
       "      <th>y_hat_knn</th>\n",
       "      <th>y_hat_lir</th>\n",
       "      <th>y_hat_lasso</th>\n",
       "      <th>y_hat_ridge</th>\n",
       "      <th>y_hat_elast</th>\n",
       "      <th>y_hat_dtree</th>\n",
       "      <th>y_hat_rand</th>\n",
       "      <th>y_hat_xgbm</th>\n",
       "    </tr>\n",
       "  </thead>\n",
       "  <tbody>\n",
       "    <tr>\n",
       "      <th>0</th>\n",
       "      <td>0.540161</td>\n",
       "      <td>0.763417</td>\n",
       "      <td>0.639993</td>\n",
       "      <td>0.76558</td>\n",
       "      <td>0.666253</td>\n",
       "      <td>0.685654</td>\n",
       "      <td>0.907487</td>\n",
       "      <td>0.908533</td>\n",
       "    </tr>\n",
       "  </tbody>\n",
       "</table>\n",
       "</div>"
      ],
      "text/plain": [
       "   y_hat_knn  y_hat_lir  y_hat_lasso  y_hat_ridge  y_hat_elast  y_hat_dtree  \\\n",
       "0   0.540161   0.763417     0.639993      0.76558     0.666253     0.685654   \n",
       "\n",
       "   y_hat_rand  y_hat_xgbm  \n",
       "0    0.907487    0.908533  "
      ]
     },
     "execution_count": 35,
     "metadata": {},
     "output_type": "execute_result"
    }
   ],
   "source": [
    "df_results"
   ]
  },
  {
   "cell_type": "code",
   "execution_count": 36,
   "id": "a9fa5538",
   "metadata": {},
   "outputs": [
    {
     "data": {
      "text/html": [
       "<div>\n",
       "<style scoped>\n",
       "    .dataframe tbody tr th:only-of-type {\n",
       "        vertical-align: middle;\n",
       "    }\n",
       "\n",
       "    .dataframe tbody tr th {\n",
       "        vertical-align: top;\n",
       "    }\n",
       "\n",
       "    .dataframe thead th {\n",
       "        text-align: right;\n",
       "    }\n",
       "</style>\n",
       "<table border=\"1\" class=\"dataframe\">\n",
       "  <thead>\n",
       "    <tr style=\"text-align: right;\">\n",
       "      <th></th>\n",
       "      <th>knn</th>\n",
       "      <th>lir</th>\n",
       "      <th>lasso</th>\n",
       "      <th>ridge</th>\n",
       "      <th>elast</th>\n",
       "      <th>dtree</th>\n",
       "      <th>rand</th>\n",
       "      <th>xgbm</th>\n",
       "    </tr>\n",
       "  </thead>\n",
       "  <tbody>\n",
       "    <tr>\n",
       "      <th>0</th>\n",
       "      <td>0.650883</td>\n",
       "      <td>0.763417</td>\n",
       "      <td>0.763426</td>\n",
       "      <td>0.763505</td>\n",
       "      <td>0.763594</td>\n",
       "      <td>0.858767</td>\n",
       "      <td>0.90615</td>\n",
       "      <td>0.917708</td>\n",
       "    </tr>\n",
       "  </tbody>\n",
       "</table>\n",
       "</div>"
      ],
      "text/plain": [
       "        knn       lir     lasso     ridge     elast     dtree     rand  \\\n",
       "0  0.650883  0.763417  0.763426  0.763505  0.763594  0.858767  0.90615   \n",
       "\n",
       "       xgbm  \n",
       "0  0.917708  "
      ]
     },
     "execution_count": 36,
     "metadata": {},
     "output_type": "execute_result"
    }
   ],
   "source": [
    "df_results2"
   ]
  },
  {
   "cell_type": "markdown",
   "id": "bef4d513",
   "metadata": {},
   "source": [
    "En ambos casos, el mejor modelo (considerando su R-cuadrada) es el de XGBoost, seguido de RandomForest. El peor modelo es el de KNN. Los modelos de Regresión mostraron una significativa mejora al ajustar los hiperparámetros."
   ]
  },
  {
   "cell_type": "markdown",
   "id": "580717b3",
   "metadata": {},
   "source": [
    "### Parte 3"
   ]
  },
  {
   "cell_type": "markdown",
   "id": "0d7c37a6",
   "metadata": {},
   "source": [
    "- Cambiar el modelo XGBoost para tener un max_depth=1\n",
    "- Graficar la importancia de las variables"
   ]
  },
  {
   "cell_type": "code",
   "execution_count": 37,
   "id": "0d14f11e",
   "metadata": {},
   "outputs": [],
   "source": [
    "def gs_best1(params, model, model_name):\n",
    "    gs=GridSearchCV(model(), params, cv=5, n_jobs=1, verbose=1)\n",
    "    gs.fit(X_train, y_train)\n",
    "    best= model(**gs.best_params_).fit(X_train, y_train)\n",
    "    y_hat= best.predict(X_test)\n",
    "    r2=r2_score(y_test, y_hat)\n",
    "    \n",
    "    return best, r2"
   ]
  },
  {
   "cell_type": "code",
   "execution_count": 38,
   "id": "22cb65d8",
   "metadata": {},
   "outputs": [
    {
     "name": "stdout",
     "output_type": "stream",
     "text": [
      "Fitting 5 folds for each of 2 candidates, totalling 10 fits\n"
     ]
    },
    {
     "data": {
      "text/plain": [
       "0.8532663386170671"
      ]
     },
     "execution_count": 38,
     "metadata": {},
     "output_type": "execute_result"
    }
   ],
   "source": [
    "params_xgbm1={\"max_depth\":[1], \"learning_rate\":[0.3,0.03]}\n",
    "(model1, r2_xgbm1)= gs_best1(params_xgbm1, xgb.XGBRegressor, \"XGBM1\")\n",
    "r2_xgbm1"
   ]
  },
  {
   "cell_type": "code",
   "execution_count": 39,
   "id": "f0d8a585",
   "metadata": {},
   "outputs": [
    {
     "data": {
      "image/png": "[encoded data removed]",
      "text/plain": [
       "<Figure size 432x288 with 1 Axes>"
      ]
     },
     "metadata": {
      "needs_background": "light"
     },
     "output_type": "display_data"
    }
   ],
   "source": [
    "f_imp=xgb.plot_importance(model1)"
   ]
  },
  {
   "cell_type": "markdown",
   "id": "549cc8b2",
   "metadata": {},
   "source": [
    "DIS es la más importante, de acuerdo con el F score."
   ]
  },
  {
   "cell_type": "markdown",
   "id": "6d2917a6",
   "metadata": {},
   "source": [
    "- Utilizar el modelo XGBoost para graficar los primeros 6 boosted trees"
   ]
  },
  {
   "cell_type": "code",
   "execution_count": 40,
   "id": "ed144ae0",
   "metadata": {},
   "outputs": [],
   "source": [
    "from sklearn.tree import plot_tree"
   ]
  },
  {
   "cell_type": "code",
   "execution_count": 41,
   "id": "05acffb8",
   "metadata": {},
   "outputs": [
    {
     "name": "stdout",
     "output_type": "stream",
     "text": [
      "Fitting 5 folds for each of 12 candidates, totalling 60 fits\n"
     ]
    },
    {
     "data": {
      "text/plain": [
       "'XGBM'"
      ]
     },
     "execution_count": 41,
     "metadata": {},
     "output_type": "execute_result"
    }
   ],
   "source": [
    "params_xgbm={\"max_depth\":[4,5], \"n_estimators\":[10,20,30], \"learning_rate\":[0.3,0.03]}\n",
    "(model, r2_xgbm)= gs_best(params_xgbm, xgb.XGBRegressor, \"XGBM\")\n",
    "model"
   ]
  },
  {
   "cell_type": "code",
   "execution_count": 42,
   "id": "d51537e0",
   "metadata": {},
   "outputs": [],
   "source": [
    "params_xgbm={'max_depth':5, 'learning_rate':0.3}\n",
    "data_dmatrix=xgb.DMatrix(data=X_train, label=y_train)"
   ]
  },
  {
   "cell_type": "code",
   "execution_count": 43,
   "id": "2de97fd3",
   "metadata": {},
   "outputs": [],
   "source": [
    "xg_reg=xgb.train(params=params_xgbm, dtrain=data_dmatrix, num_boost_round=10)"
   ]
  },
  {
   "cell_type": "code",
   "execution_count": 44,
   "id": "ec155b49",
   "metadata": {},
   "outputs": [
    {
     "data": {
      "text/plain": [
       "XGBRegressor(base_score=None, booster=None, callbacks=None,\n",
       "             colsample_bylevel=None, colsample_bynode=None,\n",
       "             colsample_bytree=None, early_stopping_rounds=None,\n",
       "             enable_categorical=False, eval_metric=None, feature_types=None,\n",
       "             gamma=None, gpu_id=None, grow_policy=None, importance_type=None,\n",
       "             interaction_constraints=None, learning_rate=None, max_bin=None,\n",
       "             max_cat_threshold=None, max_cat_to_onehot=None,\n",
       "             max_delta_step=None, max_depth=None, max_leaves=None,\n",
       "             min_child_weight=None, missing=nan, monotone_constraints=None,\n",
       "             n_estimators=100, n_jobs=None, num_parallel_tree=None,\n",
       "             predictor=None, random_state=None, ...)"
      ]
     },
     "execution_count": 44,
     "metadata": {},
     "output_type": "execute_result"
    }
   ],
   "source": [
    "XGBRegressor()"
   ]
  },
  {
   "cell_type": "code",
   "execution_count": 45,
   "id": "ba56bad1",
   "metadata": {},
   "outputs": [],
   "source": [
    "import graphviz"
   ]
  },
  {
   "cell_type": "code",
   "execution_count": null,
   "id": "ab4a9401",
   "metadata": {},
   "outputs": [],
   "source": [
    "fig, axs= plt.subplots(3,5, figsize=(15,8))\n",
    "axs= axs.flatten()\n",
    "for i in range (6):\n",
    "    tree=model_xgb.n_estimators[i]\n",
    "    plot_tree(model_xgb.n_estimators[i], max_depth=2, ax=axs[i])"
   ]
  },
  {
   "cell_type": "code",
   "execution_count": 47,
   "id": "fd4c397c",
   "metadata": {},
   "outputs": [],
   "source": [
    "r2_xgb = []\n",
    "for i in range(1,101):\n",
    "    yhat = XGBRegressor(n_estimators=i).fit(X_train,y_train).predict(X_test).flatten()\n",
    "    r2 = r2_score(y_test,yhat)\n",
    "    r2_xgb.append(r2)"
   ]
  },
  {
   "cell_type": "code",
   "execution_count": 48,
   "id": "c0558fcc",
   "metadata": {},
   "outputs": [
    {
     "data": {
      "image/png": "[encoded data removed]",
      "text/plain": [
       "<Figure size 1080x576 with 1 Axes>"
      ]
     },
     "metadata": {
      "needs_background": "light"
     },
     "output_type": "display_data"
    }
   ],
   "source": [
    "fig, ax = plt.subplots(figsize=(15,8))\n",
    "plt.plot(range(1,101),r2_xgb,color='orange')\n",
    "plt.ylabel('R squared')\n",
    "plt.xlabel('# Trees')\n",
    "plt.show()"
   ]
  },
  {
   "cell_type": "code",
   "execution_count": null,
   "id": "33dece1c",
   "metadata": {},
   "outputs": [],
   "source": []
  }
 ],
 "metadata": {
  "kernelspec": {
   "display_name": "Python 3 (ipykernel)",
   "language": "python",
   "name": "python3"
  },
  "language_info": {
   "codemirror_mode": {
    "name": "ipython",
    "version": 3
   },
   "file_extension": ".py",
   "mimetype": "text/x-python",
   "name": "python",
   "nbconvert_exporter": "python",
   "pygments_lexer": "ipython3",
   "version": "3.9.12"
  }
 },
 "nbformat": 4,
 "nbformat_minor": 5
}
