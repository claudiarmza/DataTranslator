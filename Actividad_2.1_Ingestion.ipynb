{
 "cells": [
  {
   "cell_type": "markdown",
   "id": "688588cc",
   "metadata": {},
   "source": [
    "# Actividad 2.1"
   ]
  },
  {
   "cell_type": "code",
   "execution_count": 38,
   "id": "187120a0",
   "metadata": {},
   "outputs": [],
   "source": [
    "#imports\n",
    "import pandas as pd\n",
    "import numpy as np\n",
    "import requests\n",
    "import pickle"
   ]
  },
  {
   "cell_type": "code",
   "execution_count": 40,
   "id": "b3010865",
   "metadata": {},
   "outputs": [],
   "source": [
    "df1=pd.read_csv('Machine-readable-business-employment-data-sep-2021-quarter.csv')\n",
    "df2=pd.read_csv('annual-enterprise-survey-2020-financial-year-provisional-csv.csv')\n",
    "df3=pd.read_csv('C:\\\\Users\\\\CRAMIREZA\\\\Documents\\\\ArchivosIngestion\\\\electronic-card-transactions-November-2021-csv-tables.csv')"
   ]
  },
  {
   "cell_type": "code",
   "execution_count": 25,
   "id": "bcb530e8",
   "metadata": {},
   "outputs": [
    {
     "name": "stdout",
     "output_type": "stream",
     "text": [
      "Requirement already satisfied: xlrd in c:\\users\\cramireza\\anaconda3\\envs\\data_translator\\lib\\site-packages (2.0.1)\n"
     ]
    }
   ],
   "source": [
    "#Parte 2\n",
    "#Leer los archivos xlsx\n",
    "!pip install xlrd"
   ]
  },
  {
   "cell_type": "code",
   "execution_count": 34,
   "id": "a3ccce16",
   "metadata": {},
   "outputs": [],
   "source": [
    "import xlrd"
   ]
  },
  {
   "cell_type": "code",
   "execution_count": 45,
   "id": "f541b88d",
   "metadata": {},
   "outputs": [],
   "source": [
    "df4=pd.read_excel('SampleData.xlsx', sheet_name='SalesOrders', engine='openpyxl')\n",
    "df5=pd.read_excel('sampledatafoodsales.xlsx', sheet_name='FoodSales', engine='openpyxl')\n",
    "df6=pd.read_excel('sampledatainsurance.xlsx',sheet_name='PolicyData', engine='openpyxl')"
   ]
  },
  {
   "cell_type": "code",
   "execution_count": 46,
   "id": "92586819",
   "metadata": {},
   "outputs": [],
   "source": [
    "json_req1=requests.get('https://jsonplaceholder.typicode.com/todos').json()\n",
    "json_req2=requests.get('https://jsonplaceholder.typicode.com/photos').json()\n",
    "json_req3=requests.get('https://jsonplaceholder.typicode.com/albums').json()"
   ]
  },
  {
   "cell_type": "code",
   "execution_count": 47,
   "id": "0c0ca1f2",
   "metadata": {},
   "outputs": [],
   "source": [
    "df7=pd.json_normalize(json_req1)\n",
    "df8=pd.json_normalize(json_req2)\n",
    "df9=pd.json_normalize(json_req3)"
   ]
  },
  {
   "cell_type": "code",
   "execution_count": 51,
   "id": "e684b1f3",
   "metadata": {},
   "outputs": [],
   "source": [
    "for i, df in enumerate([df1,df2,df3,df4,df5,df6,df7,df8,df9]):\n",
    "    df.to_csv(f\"./data_act/{i}.csv\")\n",
    "    df.to_excel(f\"./data_act/{i}.xlsx\")\n",
    "    df.to_json(f\"./data_act/{i}.json\")"
   ]
  },
  {
   "cell_type": "code",
   "execution_count": 52,
   "id": "bc1277f7",
   "metadata": {},
   "outputs": [],
   "source": [
    "#el protocolo tiene que ver con la versión de transformar a bytes la información que tenemos en los dataframes\n",
    "#protocolo 0 es el más fácil de \"leer\"\n",
    "#protocolo 4,5 tiene un mayor grado de codificación"
   ]
  },
  {
   "cell_type": "code",
   "execution_count": 54,
   "id": "281a5c77",
   "metadata": {},
   "outputs": [],
   "source": [
    "for i, df in enumerate ([df1,df2,df3,df4,df5,df6,df7,df8,df9]):\n",
    "    with open(f\"./data_act/{i}.pickle\",'wb') as f:\n",
    "        pickle.dump(df,f,protocol=4)"
   ]
  },
  {
   "cell_type": "code",
   "execution_count": 55,
   "id": "42a03fae",
   "metadata": {},
   "outputs": [
    {
     "name": "stdout",
     "output_type": "stream",
     "text": [
      "(19093, 14)\n",
      "(37080, 10)\n",
      "(18240, 14)\n",
      "(43, 7)\n",
      "(244, 8)\n",
      "(500, 10)\n",
      "(200, 4)\n",
      "(5000, 5)\n",
      "(100, 3)\n"
     ]
    }
   ],
   "source": [
    "for i,df in enumerate ([df1,df2,df3,df4,df5,df6,df7,df8,df9]):\n",
    "    with open(f\"./data_act/{i}.pickle\",'rb') as f:\n",
    "        print(pickle.load(f).shape)"
   ]
  },
  {
   "cell_type": "code",
   "execution_count": null,
   "id": "91beec17",
   "metadata": {},
   "outputs": [],
   "source": [
    "#"
   ]
  }
 ],
 "metadata": {
  "kernelspec": {
   "display_name": "Python 3",
   "language": "python",
   "name": "python3"
  },
  "language_info": {
   "codemirror_mode": {
    "name": "ipython",
    "version": 3
   },
   "file_extension": ".py",
   "mimetype": "text/x-python",
   "name": "python",
   "nbconvert_exporter": "python",
   "pygments_lexer": "ipython3",
   "version": "3.6.13"
  }
 },
 "nbformat": 4,
 "nbformat_minor": 5
}
