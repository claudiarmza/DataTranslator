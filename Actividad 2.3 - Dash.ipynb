{
 "cells": [
  {
   "cell_type": "markdown",
   "id": "1a1fc2ee",
   "metadata": {},
   "source": [
    "# Actividad 2.3"
   ]
  },
  {
   "cell_type": "markdown",
   "id": "d8fd5b36",
   "metadata": {},
   "source": [
    "## PARTE 1"
   ]
  },
  {
   "cell_type": "code",
   "execution_count": 2,
   "id": "0b3124ef",
   "metadata": {},
   "outputs": [],
   "source": [
    "import dash\n",
    "from dash import html\n",
    "\n",
    "app = dash.Dash(__name__)"
   ]
  },
  {
   "cell_type": "code",
   "execution_count": 3,
   "id": "3b050df3",
   "metadata": {},
   "outputs": [
    {
     "data": {
      "text/plain": [
       "<dash.dash.Dash at 0x1d66c3a6e80>"
      ]
     },
     "execution_count": 3,
     "metadata": {},
     "output_type": "execute_result"
    }
   ],
   "source": [
    "app"
   ]
  },
  {
   "cell_type": "code",
   "execution_count": 8,
   "id": "4e41211d",
   "metadata": {},
   "outputs": [
    {
     "name": "stdout",
     "output_type": "stream",
     "text": [
      "Collecting jupyter-dash\n",
      "  Downloading jupyter_dash-0.4.2-py3-none-any.whl (23 kB)\n",
      "Requirement already satisfied: dash in c:\\users\\cramireza\\anaconda3\\envs\\data_translator\\lib\\site-packages (from jupyter-dash) (2.6.2)\n",
      "Requirement already satisfied: requests in c:\\users\\cramireza\\anaconda3\\envs\\data_translator\\lib\\site-packages (from jupyter-dash) (2.27.1)\n",
      "Collecting ansi2html\n",
      "  Downloading ansi2html-1.8.0-py3-none-any.whl (16 kB)\n",
      "Requirement already satisfied: nest-asyncio in c:\\users\\cramireza\\anaconda3\\envs\\data_translator\\lib\\site-packages (from jupyter-dash) (1.5.1)\n",
      "Requirement already satisfied: flask in c:\\users\\cramireza\\anaconda3\\envs\\data_translator\\lib\\site-packages (from jupyter-dash) (2.0.3)\n",
      "Requirement already satisfied: ipykernel in c:\\users\\cramireza\\anaconda3\\envs\\data_translator\\lib\\site-packages (from jupyter-dash) (5.3.4)\n",
      "Collecting retrying\n",
      "  Downloading retrying-1.3.3.tar.gz (10 kB)\n",
      "Requirement already satisfied: ipython in c:\\users\\cramireza\\anaconda3\\envs\\data_translator\\lib\\site-packages (from jupyter-dash) (7.16.1)\n",
      "Requirement already satisfied: importlib-metadata in c:\\users\\cramireza\\anaconda3\\envs\\data_translator\\lib\\site-packages (from ansi2html->jupyter-dash) (4.8.3)\n",
      "Requirement already satisfied: contextvars==2.4 in c:\\users\\cramireza\\anaconda3\\envs\\data_translator\\lib\\site-packages (from dash->jupyter-dash) (2.4)\n",
      "Requirement already satisfied: plotly>=5.0.0 in c:\\users\\cramireza\\anaconda3\\envs\\data_translator\\lib\\site-packages (from dash->jupyter-dash) (5.10.0)\n",
      "Requirement already satisfied: flask-compress in c:\\users\\cramireza\\anaconda3\\envs\\data_translator\\lib\\site-packages (from dash->jupyter-dash) (1.13)\n",
      "Requirement already satisfied: dash-html-components==2.0.0 in c:\\users\\cramireza\\anaconda3\\envs\\data_translator\\lib\\site-packages (from dash->jupyter-dash) (2.0.0)\n",
      "Requirement already satisfied: dash-table==5.0.0 in c:\\users\\cramireza\\anaconda3\\envs\\data_translator\\lib\\site-packages (from dash->jupyter-dash) (5.0.0)\n",
      "Requirement already satisfied: dash-core-components==2.0.0 in c:\\users\\cramireza\\anaconda3\\envs\\data_translator\\lib\\site-packages (from dash->jupyter-dash) (2.0.0)\n",
      "Requirement already satisfied: immutables>=0.9 in c:\\users\\cramireza\\anaconda3\\envs\\data_translator\\lib\\site-packages (from contextvars==2.4->dash->jupyter-dash) (0.19)\n",
      "Requirement already satisfied: zipp>=0.5 in c:\\users\\cramireza\\anaconda3\\envs\\data_translator\\lib\\site-packages (from importlib-metadata->ansi2html->jupyter-dash) (3.6.0)\n",
      "Requirement already satisfied: typing-extensions>=3.6.4 in c:\\users\\cramireza\\anaconda3\\envs\\data_translator\\lib\\site-packages (from importlib-metadata->ansi2html->jupyter-dash) (4.1.1)\n",
      "Requirement already satisfied: Jinja2>=3.0 in c:\\users\\cramireza\\anaconda3\\envs\\data_translator\\lib\\site-packages (from flask->jupyter-dash) (3.0.3)\n",
      "Requirement already satisfied: click>=7.1.2 in c:\\users\\cramireza\\anaconda3\\envs\\data_translator\\lib\\site-packages (from flask->jupyter-dash) (8.0.4)\n",
      "Requirement already satisfied: itsdangerous>=2.0 in c:\\users\\cramireza\\anaconda3\\envs\\data_translator\\lib\\site-packages (from flask->jupyter-dash) (2.0.1)\n",
      "Requirement already satisfied: Werkzeug>=2.0 in c:\\users\\cramireza\\anaconda3\\envs\\data_translator\\lib\\site-packages (from flask->jupyter-dash) (2.0.3)\n",
      "Requirement already satisfied: colorama in c:\\users\\cramireza\\anaconda3\\envs\\data_translator\\lib\\site-packages (from click>=7.1.2->flask->jupyter-dash) (0.4.4)\n",
      "Requirement already satisfied: MarkupSafe>=2.0 in c:\\users\\cramireza\\anaconda3\\envs\\data_translator\\lib\\site-packages (from Jinja2>=3.0->flask->jupyter-dash) (2.0.1)\n",
      "Requirement already satisfied: tenacity>=6.2.0 in c:\\users\\cramireza\\anaconda3\\envs\\data_translator\\lib\\site-packages (from plotly>=5.0.0->dash->jupyter-dash) (8.1.0)\n",
      "Requirement already satisfied: dataclasses in c:\\users\\cramireza\\anaconda3\\envs\\data_translator\\lib\\site-packages (from Werkzeug>=2.0->flask->jupyter-dash) (0.8)\n",
      "Requirement already satisfied: brotli in c:\\users\\cramireza\\anaconda3\\envs\\data_translator\\lib\\site-packages (from flask-compress->dash->jupyter-dash) (1.0.9)\n",
      "Requirement already satisfied: tornado>=4.2 in c:\\users\\cramireza\\anaconda3\\envs\\data_translator\\lib\\site-packages (from ipykernel->jupyter-dash) (6.1)\n",
      "Requirement already satisfied: jupyter-client in c:\\users\\cramireza\\anaconda3\\envs\\data_translator\\lib\\site-packages (from ipykernel->jupyter-dash) (7.1.2)\n",
      "Requirement already satisfied: traitlets>=4.1.0 in c:\\users\\cramireza\\anaconda3\\envs\\data_translator\\lib\\site-packages (from ipykernel->jupyter-dash) (4.3.3)\n",
      "Requirement already satisfied: pickleshare in c:\\users\\cramireza\\anaconda3\\envs\\data_translator\\lib\\site-packages (from ipython->jupyter-dash) (0.7.5)\n",
      "Requirement already satisfied: jedi>=0.10 in c:\\users\\cramireza\\anaconda3\\envs\\data_translator\\lib\\site-packages (from ipython->jupyter-dash) (0.17.0)\n",
      "Requirement already satisfied: setuptools>=18.5 in c:\\users\\cramireza\\anaconda3\\envs\\data_translator\\lib\\site-packages (from ipython->jupyter-dash) (58.0.4)\n",
      "Requirement already satisfied: pygments in c:\\users\\cramireza\\anaconda3\\envs\\data_translator\\lib\\site-packages (from ipython->jupyter-dash) (2.11.2)\n",
      "Requirement already satisfied: decorator in c:\\users\\cramireza\\anaconda3\\envs\\data_translator\\lib\\site-packages (from ipython->jupyter-dash) (5.1.1)\n",
      "Requirement already satisfied: prompt-toolkit!=3.0.0,!=3.0.1,<3.1.0,>=2.0.0 in c:\\users\\cramireza\\anaconda3\\envs\\data_translator\\lib\\site-packages (from ipython->jupyter-dash) (3.0.20)\n",
      "Requirement already satisfied: backcall in c:\\users\\cramireza\\anaconda3\\envs\\data_translator\\lib\\site-packages (from ipython->jupyter-dash) (0.2.0)\n",
      "Requirement already satisfied: parso>=0.7.0 in c:\\users\\cramireza\\anaconda3\\envs\\data_translator\\lib\\site-packages (from jedi>=0.10->ipython->jupyter-dash) (0.8.3)\n",
      "Requirement already satisfied: wcwidth in c:\\users\\cramireza\\anaconda3\\envs\\data_translator\\lib\\site-packages (from prompt-toolkit!=3.0.0,!=3.0.1,<3.1.0,>=2.0.0->ipython->jupyter-dash) (0.2.5)\n",
      "Requirement already satisfied: six in c:\\users\\cramireza\\anaconda3\\envs\\data_translator\\lib\\site-packages (from traitlets>=4.1.0->ipykernel->jupyter-dash) (1.16.0)\n",
      "Requirement already satisfied: ipython-genutils in c:\\users\\cramireza\\anaconda3\\envs\\data_translator\\lib\\site-packages (from traitlets>=4.1.0->ipykernel->jupyter-dash) (0.2.0)\n",
      "Requirement already satisfied: python-dateutil>=2.1 in c:\\users\\cramireza\\anaconda3\\envs\\data_translator\\lib\\site-packages (from jupyter-client->ipykernel->jupyter-dash) (2.8.2)\n",
      "Requirement already satisfied: entrypoints in c:\\users\\cramireza\\anaconda3\\envs\\data_translator\\lib\\site-packages (from jupyter-client->ipykernel->jupyter-dash) (0.3)\n",
      "Requirement already satisfied: pyzmq>=13 in c:\\users\\cramireza\\anaconda3\\envs\\data_translator\\lib\\site-packages (from jupyter-client->ipykernel->jupyter-dash) (22.2.1)\n",
      "Requirement already satisfied: jupyter-core>=4.6.0 in c:\\users\\cramireza\\anaconda3\\envs\\data_translator\\lib\\site-packages (from jupyter-client->ipykernel->jupyter-dash) (4.8.1)\n",
      "Requirement already satisfied: pywin32>=1.0 in c:\\users\\cramireza\\anaconda3\\envs\\data_translator\\lib\\site-packages (from jupyter-core>=4.6.0->jupyter-client->ipykernel->jupyter-dash) (228)\n",
      "Requirement already satisfied: idna<4,>=2.5 in c:\\users\\cramireza\\anaconda3\\envs\\data_translator\\lib\\site-packages (from requests->jupyter-dash) (3.4)\n",
      "Requirement already satisfied: charset-normalizer~=2.0.0 in c:\\users\\cramireza\\anaconda3\\envs\\data_translator\\lib\\site-packages (from requests->jupyter-dash) (2.0.12)\n",
      "Requirement already satisfied: certifi>=2017.4.17 in c:\\users\\cramireza\\anaconda3\\envs\\data_translator\\lib\\site-packages (from requests->jupyter-dash) (2021.5.30)\n",
      "Requirement already satisfied: urllib3<1.27,>=1.21.1 in c:\\users\\cramireza\\anaconda3\\envs\\data_translator\\lib\\site-packages (from requests->jupyter-dash) (1.26.12)\n",
      "Building wheels for collected packages: retrying\n",
      "  Building wheel for retrying (setup.py): started\n",
      "  Building wheel for retrying (setup.py): finished with status 'done'\n",
      "  Created wheel for retrying: filename=retrying-1.3.3-py3-none-any.whl size=11447 sha256=1cd086ca8d232f015a8c310b4c5e7288fdceb7049556f39ce595a21242aeb749\n",
      "  Stored in directory: c:\\users\\cramireza\\appdata\\local\\pip\\cache\\wheels\\ac\\cb\\8a\\b27bf6323e2f4c462dcbf77d70b7c5e7868a7fbe12871770cf\n",
      "Successfully built retrying\n",
      "Installing collected packages: retrying, ansi2html, jupyter-dash\n",
      "Successfully installed ansi2html-1.8.0 jupyter-dash-0.4.2 retrying-1.3.3\n"
     ]
    }
   ],
   "source": [
    "!pip install jupyter-dash"
   ]
  },
  {
   "cell_type": "code",
   "execution_count": 4,
   "id": "9b676033",
   "metadata": {},
   "outputs": [],
   "source": [
    "app.layout = html.Div(children=[\n",
    "    html.Img(\n",
    "        src='assets\\\\sustainability.jpg',\n",
    "        style={'width': '50%', 'border': '1px solid red'},\n",
    "        alt='image'),\n",
    "\n",
    "    html.H1(children='Claudia Ramírez', style={'color': 'blue'}),\n",
    "    html.P('Coordinador de Inteligencia de Mercado en DEACERO', style={'color': 'orange', 'border': '2px solid blue'})\n",
    "])"
   ]
  },
  {
   "cell_type": "code",
   "execution_count": 5,
   "id": "8d8c727e",
   "metadata": {},
   "outputs": [
    {
     "name": "stdout",
     "output_type": "stream",
     "text": [
      "Dash is running on http://127.0.0.1:8050/\n",
      "\n",
      " * Serving Flask app '__main__' (lazy loading)\n",
      " * Environment: production\n",
      "\u001b[31m   WARNING: This is a development server. Do not use it in a production deployment.\u001b[0m\n",
      "\u001b[2m   Use a production WSGI server instead.\u001b[0m\n",
      " * Debug mode: on\n"
     ]
    }
   ],
   "source": [
    "if __name__ == '__main__':\n",
    "    app.run_server(debug=True, use_reloader=False)"
   ]
  },
  {
   "cell_type": "markdown",
   "id": "9661f419",
   "metadata": {},
   "source": [
    "## PARTE 2"
   ]
  },
  {
   "cell_type": "code",
   "execution_count": 7,
   "id": "d4e04fdf",
   "metadata": {},
   "outputs": [],
   "source": [
    "import dash\n",
    "from dash import dcc\n",
    "from dash import html\n",
    "from dash.dependencies import Input, Output"
   ]
  },
  {
   "cell_type": "code",
   "execution_count": 8,
   "id": "0acbb2d0",
   "metadata": {},
   "outputs": [
    {
     "name": "stdout",
     "output_type": "stream",
     "text": [
      "Dash is running on http://127.0.0.1:8050/\n",
      "\n",
      "Dash is running on http://127.0.0.1:8050/\n",
      "\n",
      " * Serving Flask app '__main__' (lazy loading)\n",
      " * Environment: production\n",
      "\u001b[31m   WARNING: This is a development server. Do not use it in a production deployment.\u001b[0m\n",
      "\u001b[2m   Use a production WSGI server instead.\u001b[0m\n",
      " * Debug mode: on\n"
     ]
    }
   ],
   "source": [
    "app = dash.Dash(__name__)\n",
    "\n",
    "app.layout = html.Div([\n",
    "    html.Div([\n",
    "        \"Input: \",\n",
    "        dcc.Input(id='exponente', value='0', type='text')\n",
    "    ]),\n",
    "    html.Br(),\n",
    "    html.Div(id='resultado'),\n",
    "])\n",
    "\n",
    "\n",
    "@app.callback(\n",
    "    Output(component_id='resultado', component_property='children'),\n",
    "    Input(component_id='exponente', component_property='value')\n",
    ")\n",
    "def update_output_div(input_value):\n",
    "    return f'Resultado: {2**float(input_value)}'\n",
    "\n",
    "\n",
    "if __name__ == '__main__':\n",
    "    app.run_server(debug=True,use_reloader=False)"
   ]
  },
  {
   "cell_type": "markdown",
   "id": "ef342505",
   "metadata": {},
   "source": [
    "## PARTE 3"
   ]
  },
  {
   "cell_type": "code",
   "execution_count": 12,
   "id": "5e5d0b81",
   "metadata": {},
   "outputs": [],
   "source": [
    "import plotly.express as px\n",
    "import pandas as pd"
   ]
  },
  {
   "cell_type": "code",
   "execution_count": 13,
   "id": "02e73728",
   "metadata": {},
   "outputs": [],
   "source": [
    "df = pd.read_csv('C:\\\\Users\\\\CRAMIREZA\\\\Documents\\\\Visualizacion-001\\\\Visualizacion\\\\datasets\\\\auto-mpg.csv')\n",
    "\n",
    "app = dash.Dash(__name__)\n",
    "\n",
    "fig = px.scatter(df, x=\"displ\", y=\"weight\",\n",
    "                    log_x=True, size_max=55, trendline=\"ols\")"
   ]
  },
  {
   "cell_type": "code",
   "execution_count": 14,
   "id": "fb297f08",
   "metadata": {},
   "outputs": [
    {
     "name": "stdout",
     "output_type": "stream",
     "text": [
      "Dash is running on http://127.0.0.1:8050/\n",
      "\n",
      "Dash is running on http://127.0.0.1:8050/\n",
      "\n",
      "Dash is running on http://127.0.0.1:8050/\n",
      "\n",
      " * Serving Flask app '__main__' (lazy loading)\n",
      " * Environment: production\n",
      "\u001b[31m   WARNING: This is a development server. Do not use it in a production deployment.\u001b[0m\n",
      "\u001b[2m   Use a production WSGI server instead.\u001b[0m\n",
      " * Debug mode: on\n"
     ]
    }
   ],
   "source": [
    "app.layout = html.Div(children=[\n",
    "    html.H1(\"Displacement vs Weight\"),\n",
    "    html.Img(\n",
    "        src='https://cdn.autobild.es/sites/navi.axelspringer.es/public/media/image/2017/02/futuro-clasico-alfa-romeo-4c.jpg',\n",
    "        style = {'width': '80%'}),\n",
    "    dcc.Graph(\n",
    "        figure=fig\n",
    "    )\n",
    "])\n",
    "    \n",
    "\n",
    "if __name__ == '__main__':\n",
    "    app.run_server(debug=True,use_reloader=False)"
   ]
  },
  {
   "cell_type": "markdown",
   "id": "89dc912a",
   "metadata": {},
   "source": [
    "## PARTE 4"
   ]
  },
  {
   "cell_type": "code",
   "execution_count": 15,
   "id": "8315ca52",
   "metadata": {},
   "outputs": [
    {
     "name": "stdout",
     "output_type": "stream",
     "text": [
      "Dash is running on http://127.0.0.1:8050/\n",
      "\n",
      "Dash is running on http://127.0.0.1:8050/\n",
      "\n",
      "Dash is running on http://127.0.0.1:8050/\n",
      "\n",
      "Dash is running on http://127.0.0.1:8050/\n",
      "\n",
      " * Serving Flask app '__main__' (lazy loading)\n",
      " * Environment: production\n",
      "\u001b[31m   WARNING: This is a development server. Do not use it in a production deployment.\u001b[0m\n",
      "\u001b[2m   Use a production WSGI server instead.\u001b[0m\n",
      " * Debug mode: on\n"
     ]
    }
   ],
   "source": [
    "df = pd.read_csv('C:\\\\Users\\\\CRAMIREZA\\\\Documents\\\\Visualizacion-001\\\\Visualizacion\\\\datasets\\\\auto-mpg.csv')\n",
    "df = df[df.hp != \"?\"]\n",
    "df[\"hp\"] = df[\"hp\"].astype(int)\n",
    "\n",
    "app = dash.Dash(__name__)\n",
    "\n",
    "app.layout = html.Div(children=[\n",
    "    html.H1(children='Histograma', style={'color':'black'}),\n",
    "    dcc.Graph(id=\"Grafico_horsepower\"),\n",
    "    dcc.Dropdown(\n",
    "        id='cylinder-dropdown',\n",
    "        options=[{'label':i, 'value':i} for i in df['cyl'].unique()],\n",
    "        value= '4'\n",
    "        ),\n",
    "])\n",
    "\n",
    "@app.callback(\n",
    "    Output('Grafico_horsepower', 'figure'),\n",
    "    Input('cylinder-dropdown', 'value')\n",
    ")\n",
    "def update_figure(selected_cylinder):\n",
    "    filtered_df = df[df.cyl == selected_cylinder]\n",
    "\n",
    "    fig= px.histogram(filtered_df, x='hp')\n",
    "\n",
    "    fig.update_layout(transition_duration=400)\n",
    "    \n",
    "    return fig\n",
    "\n",
    "if __name__ == '__main__':\n",
    "    app.run_server(debug=True,use_reloader=False)"
   ]
  },
  {
   "cell_type": "markdown",
   "id": "2d0529f9",
   "metadata": {},
   "source": [
    "## PARTE 5"
   ]
  },
  {
   "cell_type": "code",
   "execution_count": 16,
   "id": "1d87db04",
   "metadata": {},
   "outputs": [],
   "source": [
    "df = pd.read_csv('C:\\\\Users\\\\CRAMIREZA\\\\Documents\\\\Visualizacion-001\\\\Visualizacion\\\\datasets\\\\auto-mpg.csv')\n",
    "\n",
    "df[\"mpg\"] = df[\"mpg\"].astype(int)\n",
    "a=df.iloc[:,8]\n",
    "df['name'] = a.str.split(' ').str[0]"
   ]
  },
  {
   "cell_type": "code",
   "execution_count": 17,
   "id": "7b4e776d",
   "metadata": {},
   "outputs": [
    {
     "name": "stdout",
     "output_type": "stream",
     "text": [
      "Dash is running on http://127.0.0.1:8050/\n",
      "\n",
      "Dash is running on http://127.0.0.1:8050/\n",
      "\n",
      "Dash is running on http://127.0.0.1:8050/\n",
      "\n",
      "Dash is running on http://127.0.0.1:8050/\n",
      "\n",
      "Dash is running on http://127.0.0.1:8050/\n",
      "\n",
      " * Serving Flask app '__main__' (lazy loading)\n",
      " * Environment: production\n",
      "\u001b[31m   WARNING: This is a development server. Do not use it in a production deployment.\u001b[0m\n",
      "\u001b[2m   Use a production WSGI server instead.\u001b[0m\n",
      " * Debug mode: on\n"
     ]
    }
   ],
   "source": [
    "app = dash.Dash(__name__)\n",
    "\n",
    "app.layout = html.Div(children=[\n",
    "    html.H1(children='Violin_graph', style={'color':'black'}),\n",
    "    dcc.Graph(id=\"graph_mpg\"),\n",
    "    dcc.Dropdown(\n",
    "        id='car_name_dropdown',\n",
    "        options=[\n",
    "            {'label': 'ford', 'value': 'ford'},\n",
    "            {'label': 'chevrolet', 'value': 'chevrolet'},\n",
    "            {'label': 'toyota', 'value': 'toyota'}\n",
    "        ],\n",
    "        value= 'ford'\n",
    "        ),\n",
    "])\n",
    "\n",
    "@app.callback(\n",
    "    Output('graph_mpg', 'figure'),\n",
    "    Input('car_name_dropdown', 'value')\n",
    ")\n",
    "def update_figure(selected_car):\n",
    "    filtered_df = df[df.name == selected_car]\n",
    "    \n",
    "    fig= px.violin(filtered_df, y=\"mpg\", x=\"name\", color=\"name\", box=True, points=\"all\", hover_data=df.columns)\n",
    "    \n",
    "    fig.update_layout(transition_duration=500)\n",
    "    \n",
    "    return fig\n",
    "\n",
    "if __name__ == '__main__':\n",
    "    app.run_server(debug=True,use_reloader=False)"
   ]
  },
  {
   "cell_type": "code",
   "execution_count": null,
   "id": "4af5778c",
   "metadata": {},
   "outputs": [],
   "source": []
  }
 ],
 "metadata": {
  "kernelspec": {
   "display_name": "Python 3",
   "language": "python",
   "name": "python3"
  },
  "language_info": {
   "codemirror_mode": {
    "name": "ipython",
    "version": 3
   },
   "file_extension": ".py",
   "mimetype": "text/x-python",
   "name": "python",
   "nbconvert_exporter": "python",
   "pygments_lexer": "ipython3",
   "version": "3.6.13"
  }
 },
 "nbformat": 4,
 "nbformat_minor": 5
}
