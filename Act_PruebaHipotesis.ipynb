{
 "cells": [
  {
   "cell_type": "markdown",
   "id": "daf27126",
   "metadata": {},
   "source": [
    "### Actividad Prueba de Hipótesis"
   ]
  },
  {
   "cell_type": "code",
   "execution_count": 1,
   "id": "6d96d26b",
   "metadata": {},
   "outputs": [],
   "source": [
    "import numpy as np\n",
    "import pandas as pd\n",
    "import scipy.stats as stats\n",
    "import matplotlib.pyplot as plt\n",
    "%matplotlib inline"
   ]
  },
  {
   "cell_type": "markdown",
   "id": "62943fa8",
   "metadata": {},
   "source": [
    "#### Ejercicio 1. Un inventor ha desarrollado un nuevo motor para podadoras de bajo consumo energético. Afirma que el motor funcionará continuamente durante más de 5 horas (300 minutos) con un solo galón de gasolina. El motor de podadoras de la marca líder funciona durante 300 minutos con un galón de gasolina. De su stock de motores, el inventor selecciona una muestra aleatoria de 50 motores para probarlos. Los motores seleccionados funcionan en promedio 305 minutos, con una desviación estándar de 30 minutos. Probar la hipótesis de que el tiempo medio de funcionamiento es superior a 300 minutos. Utilizar un nivel de significación de 0.05."
   ]
  },
  {
   "cell_type": "code",
   "execution_count": 2,
   "id": "6f90830e",
   "metadata": {},
   "outputs": [
    {
     "data": {
      "text/plain": [
       "(1.1785113019775793, 1.6448536269514722, 0.11929641465821783)"
      ]
     },
     "execution_count": 2,
     "metadata": {},
     "output_type": "execute_result"
    }
   ],
   "source": [
    "#Problema del inventor - perspectiva general, utilizando la normal estándar\n",
    "sig=0.05\n",
    "t=300 #tiempo normal, h0\n",
    "n=50\n",
    "m=305\n",
    "s=30\n",
    "den=s/(n**0.5) #fórmula del denominador\n",
    "\n",
    "z_score=(m-t)/den\n",
    "ppf=stats.norm(0,1).ppf(1-sig) #normal std va de 0 a 1\n",
    "p_value=1-stats.norm(0,1).cdf(z_score)\n",
    "z_score,ppf,p_value"
   ]
  },
  {
   "cell_type": "code",
   "execution_count": 14,
   "id": "3697f350",
   "metadata": {},
   "outputs": [
    {
     "name": "stdout",
     "output_type": "stream",
     "text": [
      "Dado que p value (0.119) es mayor que 0.005, no se rechaza H0 de que el tiempo de funcionamiento es superior a 300 min\n"
     ]
    }
   ],
   "source": [
    "print(\"Dado que p value (0.119) es mayor que 0.005, no se rechaza H0 de que el tiempo de funcionamiento es superior a 300 min\")"
   ]
  },
  {
   "cell_type": "code",
   "execution_count": 4,
   "id": "99bd2652",
   "metadata": {},
   "outputs": [
    {
     "data": {
      "text/plain": [
       "(1.1785113019775793, 308.2242681347574, 1.0)"
      ]
     },
     "execution_count": 4,
     "metadata": {},
     "output_type": "execute_result"
    }
   ],
   "source": [
    "#Problema del inventor - perspectiva especifica del problema, utilizando la normal bajo el comportamiento del problema\n",
    "sig=0.05\n",
    "t=300 #tiempo normal\n",
    "n=50\n",
    "m=305\n",
    "s=30\n",
    "desv=m-t\n",
    "den=s/(n**0.5) #fórmula del denominador\n",
    "\n",
    "z_score=(m-t)/den\n",
    "ppf=stats.norm(t,desv).ppf(1-sig) #normal std va de 0 a 1\n",
    "p_value=1-stats.norm(t,desv).cdf(z_score)\n",
    "z_score,ppf,p_value"
   ]
  },
  {
   "cell_type": "markdown",
   "id": "d41d6d20",
   "metadata": {},
   "source": [
    "##### Ejercicio 2. Un fabricante de aderezos para ensaladas utiliza una máquina para dispensar los ingredientes líquidos en botellas que se mueven a lo largo de una línea de llenado. La dispensadora funciona correctamente con una cantidad de 8 onzas. Supongamos que la cantidad media dispensada en una muestra de 35 botellas es de 7.91 onzas con una varianza de 0.03 onzas al cuadrado. Determinar si la máquina debe detenerse y la producción debe esperar hasta que se repare la máquina. La pérdida de producción derivada de una parada es tan grande que la dirección cree que el nivel de significación en el análisis debe ser del 99%."
   ]
  },
  {
   "cell_type": "code",
   "execution_count": 18,
   "id": "efc4ea30",
   "metadata": {},
   "outputs": [],
   "source": [
    "# Prueba de dos colas. Ho: x=8, H1= x!=8\n",
    "n=35\n",
    "m=7.91\n",
    "desv=0.03\n",
    "alpha=0.01\n",
    "oz=8\n",
    "den=desv/(n**0.5)"
   ]
  },
  {
   "cell_type": "code",
   "execution_count": 19,
   "id": "dfcd0ec5",
   "metadata": {},
   "outputs": [],
   "source": [
    "z_score=(m-oz)/den\n",
    "ppf_lower=stats.norm(0,1).ppf(alpha/2)\n",
    "ppf_upper=stats.norm(0,1).ppf(1-alpha/2)\n",
    "p_value=stats.norm(0,1).cdf(z_score)"
   ]
  },
  {
   "cell_type": "code",
   "execution_count": 20,
   "id": "5424e57c",
   "metadata": {},
   "outputs": [
    {
     "data": {
      "text/plain": [
       "(-17.74823934929882,\n",
       " -2.575829303548901,\n",
       " 2.5758293035489004,\n",
       " 8.892133025881668e-71)"
      ]
     },
     "execution_count": 20,
     "metadata": {},
     "output_type": "execute_result"
    }
   ],
   "source": [
    "z_score, ppf_lower, ppf_upper, p_value"
   ]
  },
  {
   "cell_type": "code",
   "execution_count": 21,
   "id": "47fa4bbb",
   "metadata": {},
   "outputs": [
    {
     "name": "stdout",
     "output_type": "stream",
     "text": [
      "Se rechaza la Ho que establece que la dispensadora funciona correctamente con una cantidad de 8 onzas.\n"
     ]
    }
   ],
   "source": [
    "print(\"Se rechaza la Ho que establece que la dispensadora funciona correctamente con una cantidad de 8 onzas.\")\n",
    "#Intentar con screenshot y con valores diferentes a 0,1"
   ]
  },
  {
   "cell_type": "code",
   "execution_count": 26,
   "id": "2ffe4968",
   "metadata": {},
   "outputs": [
    {
     "data": {
      "text/plain": [
       "Ttest_1sampResult(statistic=-577.3656364072684, pvalue=1.8970795845937098e-69)"
      ]
     },
     "execution_count": 26,
     "metadata": {},
     "output_type": "execute_result"
    }
   ],
   "source": [
    "#opción con la prueba t\n",
    "sample=stats.t(df=n-1, loc=m, scale=desv**2).rvs(n)\n",
    "stats.ttest_1samp(sample,oz,alternative='two-sided')"
   ]
  },
  {
   "cell_type": "markdown",
   "id": "b3db1a2f",
   "metadata": {},
   "source": [
    "##### Ejercicio 3. Una empresa de bebidas afirma que sus botellas de agua tienen exactamente 16 onzas. Las muestras se encuentran en el documento “wáter.csv”. Elaborar una prueba de hipótesis con alfa = 1%. Calcular manualmente y con API para comparar ambos resultados"
   ]
  },
  {
   "cell_type": "code",
   "execution_count": 10,
   "id": "f2866670",
   "metadata": {},
   "outputs": [],
   "source": [
    "df_water=pd.read_csv(\"water.csv\")"
   ]
  },
  {
   "cell_type": "code",
   "execution_count": 40,
   "id": "34ad46da",
   "metadata": {},
   "outputs": [
    {
     "name": "stdout",
     "output_type": "stream",
     "text": [
      "15.914423065819395 0.9944448381951315 850\n",
      "-2.5089123466169267 -2.575829303548901 2.5758293035489004 0.006055176555648026\n",
      "\n",
      "Debido a que alpha (0.01) es mayor al p-value de 0.006, no se rechaza la h0\n"
     ]
    }
   ],
   "source": [
    "h0=16\n",
    "alpha=0.01\n",
    "media=df_water['0'].mean()\n",
    "desvest=df_water['0'].std()\n",
    "sample=df_water['0'].count()\n",
    "denom=desvest/(sample**.5)\n",
    "\n",
    "print(media,desvest,sample)\n",
    "\n",
    "z_score=(media-h0)/denom\n",
    "\n",
    "ppf_lower=stats.norm(0,1).ppf(alpha/2)\n",
    "ppf_upper=stats.norm(0,1).ppf(1-alpha/2)\n",
    "p_value=stats.norm(0,1).cdf(z_score)\n",
    "\n",
    "print (z_score,ppf_lower,ppf_upper,p_value)\n",
    "#para obtener el critical value en la fórmula de ppf se pondría 1 y 0\n",
    "print(\"\\nDebido a que alpha (0.01) es mayor al p-value de 0.006, no se rechaza la h0\")"
   ]
  },
  {
   "cell_type": "markdown",
   "id": "d7b11a8a",
   "metadata": {},
   "source": [
    "##### Ejercicio 4. La escala Brinell es una medida de la dureza de un material. Un ingeniero supone que la puntuación Brinell media de todas las piezas de cierto tipo de material (hierro dúctil recocido subcríticamente) no es igual a 170. El ingeniero mide 25 piezas de este tipo de material y calcula que la media de la muestra es de 174.52 y la desviación estándar de la muestra es de 10.31. Elaborar una prueba de hipótesis de que la verdadera puntuación Brinell media no es igual a 170, así como el correspondiente intervalo de confianza con alfa = 0.01."
   ]
  },
  {
   "cell_type": "code",
   "execution_count": 41,
   "id": "8b2cc284",
   "metadata": {},
   "outputs": [
    {
     "name": "stdout",
     "output_type": "stream",
     "text": [
      "-2.5089123466169267 -2.796939504772805 2.796939504772804 0.01915678214208405\n"
     ]
    }
   ],
   "source": [
    "alpha=0.01\n",
    "media=174.52\n",
    "desv=10.31\n",
    "muestra=25\n",
    "h=170\n",
    "den=desv/(muestra**0.5)\n",
    "\n",
    "t=(media-h)/den\n",
    "\n",
    "ppf_lower=stats.t.ppf(q=alpha/2, df=muestra-1)\n",
    "ppf_upper=stats.t.ppf(q=1-alpha/2, df=muestra-1)\n",
    "\n",
    "p_value=1-stats.t.cdf(x=t,df=muestra-1)\n",
    "\n",
    "print (z_score,ppf_lower,ppf_upper,p_value)"
   ]
  },
  {
   "cell_type": "code",
   "execution_count": 36,
   "id": "dd3f8231",
   "metadata": {},
   "outputs": [
    {
     "name": "stdout",
     "output_type": "stream",
     "text": [
      "P value es mayor que alpha (0.01), por lo tanto no se rechaza la hipótesis nula.\n"
     ]
    }
   ],
   "source": [
    "print(\"P value es mayor que alpha (0.01), por lo tanto no se rechaza la hipótesis nula.\")"
   ]
  },
  {
   "cell_type": "markdown",
   "id": "90e73d15",
   "metadata": {},
   "source": [
    "##### Ejercicio 5. Matías tiene ocho años, y estableció un tiempo medio de 16.43 segundos para nadar 22 metros de estilo libre. Su padre, Paco, pensaba que Jeffrey podría disminuir este tiempo usando goggles. Paco le compró a Jeffrey un nuevo par de goggles y cronometró a Matías durante 15 pruebas de 22 metros estilo libre. En las 15 pruebas, el tiempo medio de Matías fue de 16 segundos, con una desviación estándar de 0.8 segundos. Paco pensó que las gafas ayudaban a Matías a nadar más rápido que antes. Elaborar una prueba de hipótesis utilizando un alfa= 0.05."
   ]
  },
  {
   "cell_type": "code",
   "execution_count": 44,
   "id": "d0adeea6",
   "metadata": {},
   "outputs": [
    {
     "name": "stdout",
     "output_type": "stream",
     "text": [
      "-2.081728548586485 -1.7613101357748564 0.02288867772690395\n",
      "Se rechaza la hipótesis nula con un p value de 0.023\n"
     ]
    }
   ],
   "source": [
    "#h0: x > 16.43\n",
    "#h1: x < 16.43\n",
    "muestra=15\n",
    "media=16\n",
    "desv=0.8\n",
    "alpha=0.05\n",
    "h0=16.43\n",
    "den=desv/(muestra**0.5)\n",
    "\n",
    "t_score=(media-h0)/den\n",
    "ppf=stats.t.ppf(q=alpha, df=muestra-1)\n",
    "p_value=1-stats.t.cdf(x=t,df=muestra-1)\n",
    "\n",
    "print (t_score,ppf,p_value)\n",
    "print(\"Se rechaza la hipótesis nula con un p value de 0.023\")\n",
    "#Se hizo prueba t porque la muestra es menor a 30."
   ]
  },
  {
   "cell_type": "markdown",
   "id": "2d6cdef6",
   "metadata": {},
   "source": [
    "##### Ejercicio 6. El corcho natural de las botellas de vino se deteriora, por lo que el vino de las botellas puede contaminarse. El artículo \"Effects of Bottle Closure Type on Consumer Perceptions of Wine Quality\" (Amer. J. of Enology and Viticulture, 2007: 182-191) informó de que, en una cata de chardonnays comerciales, 16 de 91 botellas se consideraron estropeadas en cierta medida por características asociadas al corcho.¿Esta información es suficiente para concluir que más del 15% de todas esas botellas están contaminadas de esta manera? Utilizar un nivel de significancia igual a 0.10."
   ]
  },
  {
   "cell_type": "code",
   "execution_count": 45,
   "id": "8ec83b66",
   "metadata": {},
   "outputs": [
    {
     "name": "stdout",
     "output_type": "stream",
     "text": [
      "0.6471395393061175 1.2815515655446004 0.2587708186734847\n",
      "No se rechaza la hipótesis nula con un p value de 0.25\n"
     ]
    }
   ],
   "source": [
    "#h0: x < 0.15\n",
    "#h1: x > 0.15\n",
    "botellas=16/91\n",
    "h=0.15\n",
    "muestra=91\n",
    "alpha=0.10\n",
    "\n",
    "den=(botellas*(1-botellas)/muestra)**0.5\n",
    "\n",
    "z_score=(botellas-h)/den\n",
    "ppf=stats.norm(0,1).ppf(1-alpha)\n",
    "p_value=1-stats.norm(0,1).cdf(z_score)\n",
    "\n",
    "print (z_score,ppf,p_value)\n",
    "print(\"No se rechaza la hipótesis nula con un p value de 0.25\")"
   ]
  },
  {
   "cell_type": "code",
   "execution_count": null,
   "id": "617cdc91",
   "metadata": {},
   "outputs": [],
   "source": []
  }
 ],
 "metadata": {
  "kernelspec": {
   "display_name": "Python 3 (ipykernel)",
   "language": "python",
   "name": "python3"
  },
  "language_info": {
   "codemirror_mode": {
    "name": "ipython",
    "version": 3
   },
   "file_extension": ".py",
   "mimetype": "text/x-python",
   "name": "python",
   "nbconvert_exporter": "python",
   "pygments_lexer": "ipython3",
   "version": "3.9.12"
  }
 },
 "nbformat": 4,
 "nbformat_minor": 5
}
